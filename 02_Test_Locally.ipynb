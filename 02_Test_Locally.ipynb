{
 "cells": [
  {
   "cell_type": "markdown",
   "metadata": {},
   "source": [
    "# Test Locally\n",
    "Test the script we wrote locally."
   ]
  },
  {
   "cell_type": "code",
   "execution_count": 2,
   "metadata": {},
   "outputs": [
    {
     "name": "stdout",
     "output_type": "stream",
     "text": [
      "Reading ./balanced_pairs_train.tsv\n",
      "train: 133,660 rows with 5.00% matches\n",
      "fit elapsed: 26.184663\n",
      "Reading ./balanced_pairs_test.tsv\n",
      "test 287,014 rows with 0.55% matches\n",
      "predict_proba elapsed: 38.603560\n",
      "Accuracy @1 = 26.70%\n",
      "Accuracy @2 = 38.87%\n",
      "Accuracy @3 = 48.45%\n",
      "Mean Rank 12.3335\n"
     ]
    }
   ],
   "source": [
    "%%bash\n",
    "python TrainTestClassifier.py"
   ]
  },
  {
   "cell_type": "code",
   "execution_count": null,
   "metadata": {},
   "outputs": [],
   "source": []
  }
 ],
 "metadata": {
  "kernelspec": {
   "display_name": "Python [conda env:MLBatchAIHyperparameterTuning]",
   "language": "python",
   "name": "conda-env-MLBatchAIHyperparameterTuning-py"
  },
  "language_info": {
   "codemirror_mode": {
    "name": "ipython",
    "version": 3
   },
   "file_extension": ".py",
   "mimetype": "text/x-python",
   "name": "python",
   "nbconvert_exporter": "python",
   "pygments_lexer": "ipython3",
   "version": "3.5.5"
  }
 },
 "nbformat": 4,
 "nbformat_minor": 2
}
