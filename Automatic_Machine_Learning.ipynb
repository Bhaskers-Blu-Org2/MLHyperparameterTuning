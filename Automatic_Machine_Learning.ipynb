{
 "cells": [
  {
   "cell_type": "markdown",
   "metadata": {},
   "source": [
    "# Automatic Machine Learning\n",
    "Find the best algorithm and its hyperparameters using AutoML."
   ]
  },
  {
   "cell_type": "code",
   "execution_count": null,
   "metadata": {},
   "outputs": [],
   "source": [
    "%%writefile scripts/get_data.py\n",
    "\n",
    "import pandas as pd\n",
    "\n",
    "\n",
    "def get_data():\n",
    "    df = pd.read_csv(\"https://automldemods.blob.core.windows.net/datasets/PlayaEvents2016,_1.6MB,_3.4k-rows.cleaned.2.tsv\", delimiter=\"\\t\", quotechar='\"')\n",
    "    # get integer labels\n",
    "    le = LabelEncoder()\n",
    "    le.fit(df[\"Label\"].values)\n",
    "    y = le.transform(df[\"Label\"].values)\n",
    "    df = df.drop([\"Label\"], axis=1)\n",
    "    df_train, _, y_train, _ = train_test_split(df, y, test_size=0.1, random_state=42)\n",
    "    return { \"X\" : df, \"y\" : y }\n"
   ]
  }
 ],
 "metadata": {
  "kernelspec": {
   "display_name": "Python 3",
   "language": "python",
   "name": "python3"
  },
  "language_info": {
   "codemirror_mode": {
    "name": "ipython",
    "version": 3
   },
   "file_extension": ".py",
   "mimetype": "text/x-python",
   "name": "python",
   "nbconvert_exporter": "python",
   "pygments_lexer": "ipython3",
   "version": "3.6.7"
  }
 },
 "nbformat": 4,
 "nbformat_minor": 2
}
