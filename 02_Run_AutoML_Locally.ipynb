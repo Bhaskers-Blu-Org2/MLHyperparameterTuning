{
 "cells": [
  {
   "cell_type": "markdown",
   "metadata": {},
   "source": [
    "# Azure ML Local Run\n",
    "In this notebook, we create an Azure ML workspace, and use it to locally run the training script.\n",
    "\n",
    "The steps in this notebook are\n",
    "- [import libraries](#import),\n",
    "- [set the Azure subscription](#subscription),\n",
    "- [create an Azure ML workspace](#workspace),\n",
    "- [create an estimator](#estimator),\n",
    "- [create an experiment](#experiment),\n",
    "- [submit the estimator](#submit), and\n",
    "- [get the results](#results).\n",
    "\n",
    "## Imports  <a id='import'></a>"
   ]
  },
  {
   "cell_type": "code",
   "execution_count": 1,
   "metadata": {},
   "outputs": [
    {
     "name": "stdout",
     "output_type": "stream",
     "text": [
      "tensorflow module is not present, models based on tensorflow would not work\n",
      "azureml.core.VERSION=1.0.21\n"
     ]
    }
   ],
   "source": [
    "import os\n",
    "import pandas as pd\n",
    "from azure.common.credentials import get_cli_profile\n",
    "from azureml.core import Workspace, Experiment\n",
    "from azureml.train.estimator import Estimator\n",
    "from azureml.train.automl import AutoMLConfig\n",
    "import azureml.core\n",
    "from get_auth import get_auth\n",
    "print('azureml.core.VERSION={}'.format(azureml.core.VERSION))"
   ]
  },
  {
   "cell_type": "markdown",
   "metadata": {},
   "source": [
    "## Azure subscription <a id='subscription'></a>\n",
    "If you have multiple subscriptions select the subscription you want to use. You can also set the name of the resource group in which this tutorial will add resources. *IMPORTANT NOTE:* The last notebook in this example will delete this resource group and all associated resources."
   ]
  },
  {
   "cell_type": "code",
   "execution_count": 2,
   "metadata": {
    "tags": [
     "parameters"
    ]
   },
   "outputs": [],
   "source": [
    "selected_subscription=\"AG-AzureCAT-AIDanielle-Test-COGSNonProd-IO1685734\"\n",
    "resource_group=\"hypetuning\""
   ]
  },
  {
   "cell_type": "markdown",
   "metadata": {},
   "source": [
    "Login to Azure if not already logged in."
   ]
  },
  {
   "cell_type": "code",
   "execution_count": 3,
   "metadata": {},
   "outputs": [
    {
     "name": "stdout",
     "output_type": "stream",
     "text": [
      "Name                                               CloudName    SubscriptionId                        State    IsDefault\n",
      "-------------------------------------------------  -----------  ------------------------------------  -------  -----------\n",
      "AG-AzureCAT-AIDanC-Test-COGSNonProd-IO1685734      AzureCloud   3bcfa59c-82a0-44f9-ac08-b3479370bace  Enabled  False\n",
      "DEMO - how RepDemo are you                         AzureCloud   fe4d94f0-dc5b-4c09-9b85-863413b0192b  Enabled  False\n",
      "Edge-ES-CI-Manual                                  AzureCloud   333e402a-65a0-45a9-8e23-867ca146c290  Enabled  False\n",
      "Cosmos_WDG_Core_BnB_100348                         AzureCloud   dae41bd3-9db4-4b9b-943e-832b57cac828  Enabled  False\n",
      "Azure Stack Diagnostics CI and Production VaaS     AzureCloud   a8183b2d-7a4c-45e9-8736-dac11b84ff14  Enabled  False\n",
      "Data Wrangling Preview                             AzureCloud   215613ac-9dfb-488c-be46-c387e999b127  Enabled  False\n",
      "CAT_Eng                                            AzureCloud   eb87f285-893a-4f0f-8c55-7b4f67b1d097  Enabled  False\n",
      "Core-ES-WM-Ext                                     AzureCloud   52a442a2-31e9-42f9-8e3e-4b27dbf82673  Enabled  False\n",
      "Boston-DS-Brandon-Dev                              AzureCloud   e984a9db-1a27-4f54-98fc-282cf0dcda04  Enabled  False\n",
      "AG-AzureCAT-AIDanielle-Test-COGSNonProd-IO1685734  AzureCloud   edf507a2-6235-46c5-b560-fd463ba2e771  Enabled  True\n",
      "AG-AzureCAT-AIAbhinav-Test-COGSNonProd-IO1685734   AzureCloud   bc4170f0-cc6e-49d2-ba65-bc00a7a4df6b  Enabled  False\n",
      "Azure Internal - TATK                              AzureCloud   872ff0da-188e-4461-8cf7-26e1c3e28ebb  Enabled  False\n",
      "Enterprise Dev/Test                                AzureCloud   9bb48a85-ce2f-4884-bbe5-0dc2d6c00703  Enabled  False\n",
      "AG-AzureCAT-AIDevOps-Test-COGSNonProd-IO1685734    AzureCloud   0ca618d2-22a8-413a-96d0-0f1b531129c3  Enabled  False\n"
     ]
    }
   ],
   "source": [
    "%%bash\n",
    "list=`az account list -o table`\n",
    "if [ \"$list\" == '[]' ] || [ \"$list\" == '' ]; then \n",
    "  az login -o table\n",
    "else\n",
    "  az account list -o table \n",
    "fi"
   ]
  },
  {
   "cell_type": "markdown",
   "metadata": {},
   "source": [
    "Set the selected subscription as the default."
   ]
  },
  {
   "cell_type": "code",
   "execution_count": 4,
   "metadata": {},
   "outputs": [
    {
     "name": "stdout",
     "output_type": "stream",
     "text": [
      "EnvironmentName    IsDefault    Name                                               State    TenantId\n",
      "-----------------  -----------  -------------------------------------------------  -------  ------------------------------------\n",
      "AzureCloud         True         AG-AzureCAT-AIDanielle-Test-COGSNonProd-IO1685734  Enabled  72f988bf-86f1-41af-91ab-2d7cd011db47\n"
     ]
    }
   ],
   "source": [
    "%%bash -s \"$selected_subscription\"\n",
    "az account set --subscription \"$1\"\n",
    "az account show -o table"
   ]
  },
  {
   "cell_type": "markdown",
   "metadata": {},
   "source": [
    "Get the information for the selected Azure subscription."
   ]
  },
  {
   "cell_type": "code",
   "execution_count": 5,
   "metadata": {},
   "outputs": [],
   "source": [
    "az_profile = get_cli_profile()\n",
    "subscription_id = az_profile.get_subscription_id()"
   ]
  },
  {
   "cell_type": "markdown",
   "metadata": {},
   "source": [
    "## Create an Azure ML workspace <a id='workspace'></a>\n",
    "Create a workspace if it does not already exist or recover it if it does exist, and write out its details to `config.json` to reference it between notebooks. THe first time this is run, this can take about a minute."
   ]
  },
  {
   "cell_type": "code",
   "execution_count": 6,
   "metadata": {},
   "outputs": [
    {
     "name": "stdout",
     "output_type": "stream",
     "text": [
      "Trying to create Workspace with CLI Authentication\n",
      "Wrote the config file config.json to: /data/home/mabou/Source/Repos/MLHyperparameterTuning/aml_config/config.json\n"
     ]
    }
   ],
   "source": [
    "auth = get_auth()\n",
    "ws = Workspace.create(name='hypetuning',\n",
    "                      subscription_id=subscription_id,\n",
    "                      resource_group=resource_group,\n",
    "                      create_resource_group=True,\n",
    "                      exist_ok=True,\n",
    "                      location='eastus',\n",
    "                      auth=auth)\n",
    "ws.write_config()"
   ]
  },
  {
   "cell_type": "markdown",
   "metadata": {},
   "source": [
    "## Training data"
   ]
  },
  {
   "cell_type": "code",
   "execution_count": 7,
   "metadata": {},
   "outputs": [],
   "source": [
    "data_path = \"data\"\n",
    "train_path = os.path.join(data_path, \"balanced_pairs_train.tsv\")\n",
    "tune_path = os.path.join(data_path, \"balanced_pairs_tune.tsv\")"
   ]
  },
  {
   "cell_type": "code",
   "execution_count": 8,
   "metadata": {},
   "outputs": [],
   "source": [
    "train = pd.read_csv(train_path, sep='\\t', encoding='latin1')\n",
    "tune = pd.read_csv(tune_path, sep='\\t', encoding='latin1')"
   ]
  },
  {
   "cell_type": "code",
   "execution_count": 9,
   "metadata": {},
   "outputs": [
    {
     "data": {
      "text/plain": [
       "Index(['Id_x', 'AnswerId_x', 'Text_x', 'Id_y', 'Text_y', 'AnswerId_y', 'Label',\n",
       "       'n'],\n",
       "      dtype='object')"
      ]
     },
     "execution_count": 9,
     "metadata": {},
     "output_type": "execute_result"
    }
   ],
   "source": [
    "train.columns"
   ]
  },
  {
   "cell_type": "code",
   "execution_count": 10,
   "metadata": {},
   "outputs": [],
   "source": [
    "feature_columns = [\"Text_x\", \"Text_y\"]\n",
    "label_column = \"Label\"\n",
    "group_column = 'Id_x'\n",
    "answerid_column = 'AnswerId_y'"
   ]
  },
  {
   "cell_type": "code",
   "execution_count": 11,
   "metadata": {},
   "outputs": [],
   "source": [
    "train_X = train[feature_columns]\n",
    "train_y = train[label_column].values\n",
    "tune_X = tune[feature_columns]\n",
    "tune_y = tune[label_column].values"
   ]
  },
  {
   "cell_type": "code",
   "execution_count": 12,
   "metadata": {},
   "outputs": [
    {
     "name": "stdout",
     "output_type": "stream",
     "text": [
      "0    0.51\n",
      "1   20.00\n",
      "Name: Label, dtype: float64\n"
     ]
    }
   ],
   "source": [
    "train_label_counts = train[label_column].value_counts()\n",
    "train_label_weight = train.shape[0] / (train_label_counts.shape[0] * train_label_counts)\n",
    "print(train_label_weight)\n",
    "train_weight = train[label_column].apply(lambda x: train_label_weight[x]).values"
   ]
  },
  {
   "cell_type": "code",
   "execution_count": 13,
   "metadata": {},
   "outputs": [
    {
     "name": "stdout",
     "output_type": "stream",
     "text": [
      "0    0.50\n",
      "1   91.00\n",
      "Name: Label, dtype: float64\n"
     ]
    }
   ],
   "source": [
    "tune_label_counts = tune[label_column].value_counts()\n",
    "tune_label_weight = tune.shape[0] / (tune_label_counts.shape[0] * tune_label_counts)\n",
    "print(tune_label_weight)\n",
    "tune_weight = tune[label_column].apply(lambda x: tune_label_weight[x]).values"
   ]
  },
  {
   "cell_type": "code",
   "execution_count": 14,
   "metadata": {},
   "outputs": [],
   "source": [
    "automated_ml_config = AutoMLConfig(task=\"classification\",\n",
    "                                   primary_metric=\"accuracy\",\n",
    "                                   X=train_X,\n",
    "                                   y=train_y,\n",
    "                                   sample_weight=train_weight,\n",
    "                                   X_valid=tune_X,\n",
    "                                   y_valid=tune_y,\n",
    "                                   sample_weight_valid=tune_weight,\n",
    "                                   preprocess=True,\n",
    "                                   iterations=30,\n",
    "                                   iteration_timeout_minutes=5)\n",
    "#                                    iterations=96,\n",
    "#                                    iteration_timeout_minutes=15,\n",
    "#                                    blacklist_models=[\"LightGBM\"])"
   ]
  },
  {
   "cell_type": "code",
   "execution_count": 15,
   "metadata": {},
   "outputs": [],
   "source": [
    "exp = Experiment(workspace=ws, name='hypetuning')"
   ]
  },
  {
   "cell_type": "code",
   "execution_count": 16,
   "metadata": {
    "scrolled": false
   },
   "outputs": [
    {
     "name": "stdout",
     "output_type": "stream",
     "text": [
      "Running on local machine\n",
      "Parent Run ID: AutoML_3444614f-ba44-4971-8ca8-f42fcee58c58\n",
      "********************************************************************************************************************\n",
      "ITERATION: The iteration being evaluated.\n",
      "PIPELINE: A summary description of the pipeline being evaluated.\n",
      "SAMPLING %: Percent of the training data to sample.\n",
      "DURATION: Time taken for the current iteration.\n",
      "METRIC: The result of computing score on the fitted pipeline.\n",
      "BEST: The best observed score thus far.\n",
      "********************************************************************************************************************\n",
      "\n",
      " ITERATION   PIPELINE                                       SAMPLING %  DURATION      METRIC      BEST\n",
      "         0   MaxAbsScaler LightGBM                          100.0000    0:00:07       0.5857    0.5857\n",
      "         1                                                  100.0000    0:00:04          nan    0.5857\n",
      "ERROR: Run AutoML_3444614f-ba44-4971-8ca8-f42fcee58c58_1 failed with exception \"Cannot construct Dataset since there are no useful features.\n",
      "It should be at least two unique rows.\n",
      "If the num_row (num_data) is small, you can set min_data=1 and min_data_in_bin=1 to fix this.\n",
      "Otherwise, please make sure you are using the right dataset\".\n",
      "         2                                                  100.0000    0:00:03          nan    0.5857\n",
      "ERROR: Run AutoML_3444614f-ba44-4971-8ca8-f42fcee58c58_2 failed with exception \"Cannot construct Dataset since there are no useful features.\n",
      "It should be at least two unique rows.\n",
      "If the num_row (num_data) is small, you can set min_data=1 and min_data_in_bin=1 to fix this.\n",
      "Otherwise, please make sure you are using the right dataset\".\n",
      "         3                                                  100.0000    0:00:04          nan    0.5857\n",
      "ERROR: Run AutoML_3444614f-ba44-4971-8ca8-f42fcee58c58_3 failed with exception \"Cannot construct Dataset since there are no useful features.\n",
      "It should be at least two unique rows.\n",
      "If the num_row (num_data) is small, you can set min_data=1 and min_data_in_bin=1 to fix this.\n",
      "Otherwise, please make sure you are using the right dataset\".\n",
      "         4                                                  100.0000    0:00:04          nan    0.5857\n",
      "ERROR: Run AutoML_3444614f-ba44-4971-8ca8-f42fcee58c58_4 failed with exception \"Cannot construct Dataset since there are no useful features.\n",
      "It should be at least two unique rows.\n",
      "If the num_row (num_data) is small, you can set min_data=1 and min_data_in_bin=1 to fix this.\n",
      "Otherwise, please make sure you are using the right dataset\".\n",
      "         5                                                  100.0000    0:00:04          nan    0.5857\n",
      "ERROR: Run AutoML_3444614f-ba44-4971-8ca8-f42fcee58c58_5 failed with exception \"Cannot construct Dataset since there are no useful features.\n",
      "It should be at least two unique rows.\n",
      "If the num_row (num_data) is small, you can set min_data=1 and min_data_in_bin=1 to fix this.\n",
      "Otherwise, please make sure you are using the right dataset\".\n",
      "         6                                                  100.0000    0:00:03          nan    0.5857\n",
      "ERROR: Run AutoML_3444614f-ba44-4971-8ca8-f42fcee58c58_6 failed with exception \"Cannot construct Dataset since there are no useful features.\n",
      "It should be at least two unique rows.\n",
      "If the num_row (num_data) is small, you can set min_data=1 and min_data_in_bin=1 to fix this.\n",
      "Otherwise, please make sure you are using the right dataset\".\n",
      "         7                                                  100.0000    0:00:03          nan    0.5857\n",
      "ERROR: Run AutoML_3444614f-ba44-4971-8ca8-f42fcee58c58_7 failed with exception \"Cannot construct Dataset since there are no useful features.\n",
      "It should be at least two unique rows.\n",
      "If the num_row (num_data) is small, you can set min_data=1 and min_data_in_bin=1 to fix this.\n",
      "Otherwise, please make sure you are using the right dataset\".\n",
      "         8   MaxAbsScaler LightGBM                          100.0000    0:00:05       0.7361    0.7361\n",
      "         9   MaxAbsScaler ExtremeRandomTrees                100.0000    0:00:06       0.5000    0.7361\n",
      "        10   MaxAbsScaler SGD                               100.0000    0:00:05       0.7087    0.7361\n",
      "        11                                                  100.0000    0:00:04          nan    0.7361\n",
      "ERROR: Run AutoML_3444614f-ba44-4971-8ca8-f42fcee58c58_11 failed with exception \"Cannot construct Dataset since there are no useful features.\n",
      "It should be at least two unique rows.\n",
      "If the num_row (num_data) is small, you can set min_data=1 and min_data_in_bin=1 to fix this.\n",
      "Otherwise, please make sure you are using the right dataset\".\n",
      "        12                                                  100.0000    0:00:03          nan    0.7361\n",
      "ERROR: Run AutoML_3444614f-ba44-4971-8ca8-f42fcee58c58_12 failed with exception \"Cannot construct Dataset since there are no useful features.\n",
      "It should be at least two unique rows.\n",
      "If the num_row (num_data) is small, you can set min_data=1 and min_data_in_bin=1 to fix this.\n",
      "Otherwise, please make sure you are using the right dataset\".\n",
      "        13                                                  100.0000    0:00:03          nan    0.7361\n",
      "ERROR: Run AutoML_3444614f-ba44-4971-8ca8-f42fcee58c58_13 failed with exception \"Cannot construct Dataset since there are no useful features.\n",
      "It should be at least two unique rows.\n",
      "If the num_row (num_data) is small, you can set min_data=1 and min_data_in_bin=1 to fix this.\n",
      "Otherwise, please make sure you are using the right dataset\".\n",
      "        14                                                  100.0000    0:00:03          nan    0.7361\n",
      "ERROR: Run AutoML_3444614f-ba44-4971-8ca8-f42fcee58c58_14 failed with exception \"Cannot construct Dataset since there are no useful features.\n",
      "It should be at least two unique rows.\n",
      "If the num_row (num_data) is small, you can set min_data=1 and min_data_in_bin=1 to fix this.\n",
      "Otherwise, please make sure you are using the right dataset\".\n",
      "        15   MaxAbsScaler RandomForest                      100.0000    0:00:05       0.5000    0.7361\n",
      "        16   StandardScalerWrapper ExtremeRandomTrees       100.0000    0:00:05       0.5000    0.7361\n",
      "        17                                                  100.0000    0:00:04          nan    0.7361\n",
      "ERROR: Run AutoML_3444614f-ba44-4971-8ca8-f42fcee58c58_17 failed with exception \"Cannot construct Dataset since there are no useful features.\n",
      "It should be at least two unique rows.\n",
      "If the num_row (num_data) is small, you can set min_data=1 and min_data_in_bin=1 to fix this.\n",
      "Otherwise, please make sure you are using the right dataset\".\n",
      "        18                                                  100.0000    0:00:04          nan    0.7361\n",
      "ERROR: Run AutoML_3444614f-ba44-4971-8ca8-f42fcee58c58_18 failed with exception \"Cannot construct Dataset since there are no useful features.\n",
      "It should be at least two unique rows.\n",
      "If the num_row (num_data) is small, you can set min_data=1 and min_data_in_bin=1 to fix this.\n",
      "Otherwise, please make sure you are using the right dataset\".\n",
      "        19                                                  100.0000    0:00:03          nan    0.7361\n",
      "ERROR: Run AutoML_3444614f-ba44-4971-8ca8-f42fcee58c58_19 failed with exception \"Cannot construct Dataset since there are no useful features.\n",
      "It should be at least two unique rows.\n",
      "If the num_row (num_data) is small, you can set min_data=1 and min_data_in_bin=1 to fix this.\n",
      "Otherwise, please make sure you are using the right dataset\".\n",
      "        20   SparseNormalizer LogisticRegression            100.0000    0:00:16       0.6102    0.7361\n",
      "        21   MaxAbsScaler RandomForest                      100.0000    0:00:43       0.5000    0.7361\n",
      "        22   SparseNormalizer RandomForest                  100.0000    0:00:17       0.5000    0.7361\n",
      "        23                                                  100.0000    0:05:03          nan    0.7361\n",
      "ERROR: Fit operation exceeded provided timeout, terminating and moving onto the next iteration.\n",
      "        24   StandardScalerWrapper LogisticRegression       100.0000    0:00:12       0.6152    0.7361\n",
      "        25   StandardScalerWrapper RandomForest             100.0000    0:00:07       0.5000    0.7361\n"
     ]
    },
    {
     "name": "stdout",
     "output_type": "stream",
     "text": [
      "        26   TruncatedSVDWrapper LogisticRegression         100.0000    0:00:30       0.5000    0.7361\n",
      "        27   TruncatedSVDWrapper LogisticRegression         100.0000    0:00:26       0.7515    0.7515\n",
      "        28   TruncatedSVDWrapper LogisticRegression         100.0000    0:04:28       0.5021    0.7515\n",
      "        29   Finished loading model, total used 10 iterations\n",
      "Finished loading model, total used 50 iterations\n",
      "Finished loading model, total used 10 iterations\n",
      "Finished loading model, total used 50 iterations\n",
      "Finished loading model, total used 10 iterations\n",
      "Finished loading model, total used 50 iterations\n",
      "Finished loading model, total used 10 iterations\n",
      "Finished loading model, total used 50 iterations\n",
      "Ensemble                                       100.0000    0:00:24       0.7128    0.7515\n"
     ]
    },
    {
     "data": {
      "text/html": [
       "<table style=\"width:100%\"><tr><th>Experiment</th><th>Id</th><th>Type</th><th>Status</th><th>Details Page</th><th>Docs Page</th></tr><tr><td>hypetuning</td><td>AutoML_3444614f-ba44-4971-8ca8-f42fcee58c58</td><td>automl</td><td>Completed</td><td><a href=\"https://mlworkspace.azure.ai/portal/subscriptions/edf507a2-6235-46c5-b560-fd463ba2e771/resourceGroups/hypetuning/providers/Microsoft.MachineLearningServices/workspaces/hypetuning/experiments/hypetuning/runs/AutoML_3444614f-ba44-4971-8ca8-f42fcee58c58\" target=\"_blank\" rel=\"noopener\">Link to Azure Portal</a></td><td><a href=\"https://docs.microsoft.com/en-us/python/api/overview/azure/ml/intro?view=azure-ml-py\" target=\"_blank\" rel=\"noopener\">Link to Documentation</a></td></tr></table>"
      ],
      "text/plain": [
       "Run(Experiment: hypetuning,\n",
       "Id: AutoML_3444614f-ba44-4971-8ca8-f42fcee58c58,\n",
       "Type: automl,\n",
       "Status: Completed)"
      ]
     },
     "execution_count": 16,
     "metadata": {},
     "output_type": "execute_result"
    }
   ],
   "source": [
    "local_run = exp.submit(automated_ml_config, show_output=True)\n",
    "local_run"
   ]
  },
  {
   "cell_type": "code",
   "execution_count": 17,
   "metadata": {},
   "outputs": [],
   "source": [
    "best_run = local_run.get_output()"
   ]
  },
  {
   "cell_type": "code",
   "execution_count": 18,
   "metadata": {},
   "outputs": [
    {
     "data": {
      "text/html": [
       "<table style=\"width:100%\"><tr><th>Experiment</th><th>Id</th><th>Type</th><th>Status</th><th>Details Page</th><th>Docs Page</th></tr><tr><td>hypetuning</td><td>AutoML_3444614f-ba44-4971-8ca8-f42fcee58c58_27</td><td></td><td>Completed</td><td><a href=\"https://mlworkspace.azure.ai/portal/subscriptions/edf507a2-6235-46c5-b560-fd463ba2e771/resourceGroups/hypetuning/providers/Microsoft.MachineLearningServices/workspaces/hypetuning/experiments/hypetuning/runs/AutoML_3444614f-ba44-4971-8ca8-f42fcee58c58_27\" target=\"_blank\" rel=\"noopener\">Link to Azure Portal</a></td><td><a href=\"https://docs.microsoft.com/en-us/python/api/azureml-core/azureml.core.run.Run?view=azure-ml-py\" target=\"_blank\" rel=\"noopener\">Link to Documentation</a></td></tr></table>"
      ],
      "text/plain": [
       "Run(Experiment: hypetuning,\n",
       "Id: AutoML_3444614f-ba44-4971-8ca8-f42fcee58c58_27,\n",
       "Type: None,\n",
       "Status: Completed)"
      ]
     },
     "execution_count": 18,
     "metadata": {},
     "output_type": "execute_result"
    }
   ],
   "source": [
    "best_run[0]"
   ]
  },
  {
   "cell_type": "code",
   "execution_count": 19,
   "metadata": {},
   "outputs": [
    {
     "data": {
      "text/plain": [
       "Pipeline(memory=None,\n",
       "     steps=[('datatransformer', DataTransformer(is_onnx_compatible=None, logger=None, task=None)), ('TruncatedSVDWrapper', TruncatedSVDWrapper(n_components=0.5047368421052632, random_state=None)), ('LogisticRegression', LogisticRegression(C=1048.1131341546852, class_weight=None, dual=False,\n",
       "          fit_intercept=True, intercept_scaling=1, max_iter=100,\n",
       "          multi_class='ovr', n_jobs=1, penalty='l2', random_state=None,\n",
       "          solver='lbfgs', tol=0.0001, verbose=0, warm_start=False))])"
      ]
     },
     "execution_count": 19,
     "metadata": {},
     "output_type": "execute_result"
    }
   ],
   "source": [
    "best_run[1]"
   ]
  },
  {
   "cell_type": "code",
   "execution_count": 20,
   "metadata": {},
   "outputs": [
    {
     "data": {
      "text/plain": [
       "Pipeline(memory=None,\n",
       "     steps=[('datatransformer', DataTransformer(is_onnx_compatible=None, logger=None, task=None)), ('TruncatedSVDWrapper', TruncatedSVDWrapper(n_components=0.5047368421052632, random_state=None)), ('LogisticRegression', LogisticRegression(C=1048.1131341546852, class_weight=None, dual=False,\n",
       "          fit_intercept=True, intercept_scaling=1, max_iter=100,\n",
       "          multi_class='ovr', n_jobs=1, penalty='l2', random_state=None,\n",
       "          solver='lbfgs', tol=0.0001, verbose=0, warm_start=False))])"
      ]
     },
     "execution_count": 20,
     "metadata": {},
     "output_type": "execute_result"
    }
   ],
   "source": [
    "best_run_weighted = local_run.get_output()\n",
    "best_run_weighted[1]"
   ]
  },
  {
   "cell_type": "code",
   "execution_count": 21,
   "metadata": {
    "scrolled": true
   },
   "outputs": [
    {
     "name": "stdout",
     "output_type": "stream",
     "text": [
      "Help on Pipeline in module sklearn.pipeline object:\n",
      "\n",
      "class Pipeline(sklearn.utils.metaestimators._BaseComposition)\n",
      " |  Pipeline of transforms with a final estimator.\n",
      " |  \n",
      " |  Sequentially apply a list of transforms and a final estimator.\n",
      " |  Intermediate steps of the pipeline must be 'transforms', that is, they\n",
      " |  must implement fit and transform methods.\n",
      " |  The final estimator only needs to implement fit.\n",
      " |  The transformers in the pipeline can be cached using ``memory`` argument.\n",
      " |  \n",
      " |  The purpose of the pipeline is to assemble several steps that can be\n",
      " |  cross-validated together while setting different parameters.\n",
      " |  For this, it enables setting parameters of the various steps using their\n",
      " |  names and the parameter name separated by a '__', as in the example below.\n",
      " |  A step's estimator may be replaced entirely by setting the parameter\n",
      " |  with its name to another estimator, or a transformer removed by setting\n",
      " |  to None.\n",
      " |  \n",
      " |  Read more in the :ref:`User Guide <pipeline>`.\n",
      " |  \n",
      " |  Parameters\n",
      " |  ----------\n",
      " |  steps : list\n",
      " |      List of (name, transform) tuples (implementing fit/transform) that are\n",
      " |      chained, in the order in which they are chained, with the last object\n",
      " |      an estimator.\n",
      " |  \n",
      " |  memory : None, str or object with the joblib.Memory interface, optional\n",
      " |      Used to cache the fitted transformers of the pipeline. By default,\n",
      " |      no caching is performed. If a string is given, it is the path to\n",
      " |      the caching directory. Enabling caching triggers a clone of\n",
      " |      the transformers before fitting. Therefore, the transformer\n",
      " |      instance given to the pipeline cannot be inspected\n",
      " |      directly. Use the attribute ``named_steps`` or ``steps`` to\n",
      " |      inspect estimators within the pipeline. Caching the\n",
      " |      transformers is advantageous when fitting is time consuming.\n",
      " |  \n",
      " |  Attributes\n",
      " |  ----------\n",
      " |  named_steps : bunch object, a dictionary with attribute access\n",
      " |      Read-only attribute to access any step parameter by user given name.\n",
      " |      Keys are step names and values are steps parameters.\n",
      " |  \n",
      " |  See also\n",
      " |  --------\n",
      " |  sklearn.pipeline.make_pipeline : convenience function for simplified\n",
      " |      pipeline construction.\n",
      " |  \n",
      " |  Examples\n",
      " |  --------\n",
      " |  >>> from sklearn import svm\n",
      " |  >>> from sklearn.datasets import samples_generator\n",
      " |  >>> from sklearn.feature_selection import SelectKBest\n",
      " |  >>> from sklearn.feature_selection import f_regression\n",
      " |  >>> from sklearn.pipeline import Pipeline\n",
      " |  >>> # generate some data to play with\n",
      " |  >>> X, y = samples_generator.make_classification(\n",
      " |  ...     n_informative=5, n_redundant=0, random_state=42)\n",
      " |  >>> # ANOVA SVM-C\n",
      " |  >>> anova_filter = SelectKBest(f_regression, k=5)\n",
      " |  >>> clf = svm.SVC(kernel='linear')\n",
      " |  >>> anova_svm = Pipeline([('anova', anova_filter), ('svc', clf)])\n",
      " |  >>> # You can set the parameters using the names issued\n",
      " |  >>> # For instance, fit using a k of 10 in the SelectKBest\n",
      " |  >>> # and a parameter 'C' of the svm\n",
      " |  >>> anova_svm.set_params(anova__k=10, svc__C=.1).fit(X, y)\n",
      " |  ...                      # doctest: +ELLIPSIS, +NORMALIZE_WHITESPACE\n",
      " |  Pipeline(memory=None,\n",
      " |           steps=[('anova', SelectKBest(...)),\n",
      " |                  ('svc', SVC(...))])\n",
      " |  >>> prediction = anova_svm.predict(X)\n",
      " |  >>> anova_svm.score(X, y)                        # doctest: +ELLIPSIS\n",
      " |  0.83\n",
      " |  >>> # getting the selected features chosen by anova_filter\n",
      " |  >>> anova_svm.named_steps['anova'].get_support()\n",
      " |  ... # doctest: +NORMALIZE_WHITESPACE\n",
      " |  array([False, False,  True,  True, False, False, True,  True, False,\n",
      " |         True,  False,  True,  True, False, True,  False, True, True,\n",
      " |         False, False])\n",
      " |  >>> # Another way to get selected features chosen by anova_filter\n",
      " |  >>> anova_svm.named_steps.anova.get_support()\n",
      " |  ... # doctest: +NORMALIZE_WHITESPACE\n",
      " |  array([False, False,  True,  True, False, False, True,  True, False,\n",
      " |         True,  False,  True,  True, False, True,  False, True, True,\n",
      " |         False, False])\n",
      " |  \n",
      " |  Method resolution order:\n",
      " |      Pipeline\n",
      " |      sklearn.utils.metaestimators._BaseComposition\n",
      " |      abc.NewBase\n",
      " |      sklearn.base.BaseEstimator\n",
      " |      builtins.object\n",
      " |  \n",
      " |  Methods defined here:\n",
      " |  \n",
      " |  __init__(self, steps, memory=None)\n",
      " |      Initialize self.  See help(type(self)) for accurate signature.\n",
      " |  \n",
      " |  decision_function(self, X)\n",
      " |      Apply transforms, and decision_function of the final estimator\n",
      " |      \n",
      " |      Parameters\n",
      " |      ----------\n",
      " |      X : iterable\n",
      " |          Data to predict on. Must fulfill input requirements of first step\n",
      " |          of the pipeline.\n",
      " |      \n",
      " |      Returns\n",
      " |      -------\n",
      " |      y_score : array-like, shape = [n_samples, n_classes]\n",
      " |  \n",
      " |  fit(self, X, y=None, **fit_params)\n",
      " |      Fit the model\n",
      " |      \n",
      " |      Fit all the transforms one after the other and transform the\n",
      " |      data, then fit the transformed data using the final estimator.\n",
      " |      \n",
      " |      Parameters\n",
      " |      ----------\n",
      " |      X : iterable\n",
      " |          Training data. Must fulfill input requirements of first step of the\n",
      " |          pipeline.\n",
      " |      \n",
      " |      y : iterable, default=None\n",
      " |          Training targets. Must fulfill label requirements for all steps of\n",
      " |          the pipeline.\n",
      " |      \n",
      " |      **fit_params : dict of string -> object\n",
      " |          Parameters passed to the ``fit`` method of each step, where\n",
      " |          each parameter name is prefixed such that parameter ``p`` for step\n",
      " |          ``s`` has key ``s__p``.\n",
      " |      \n",
      " |      Returns\n",
      " |      -------\n",
      " |      self : Pipeline\n",
      " |          This estimator\n",
      " |  \n",
      " |  fit_predict(self, X, y=None, **fit_params)\n",
      " |      Applies fit_predict of last step in pipeline after transforms.\n",
      " |      \n",
      " |      Applies fit_transforms of a pipeline to the data, followed by the\n",
      " |      fit_predict method of the final estimator in the pipeline. Valid\n",
      " |      only if the final estimator implements fit_predict.\n",
      " |      \n",
      " |      Parameters\n",
      " |      ----------\n",
      " |      X : iterable\n",
      " |          Training data. Must fulfill input requirements of first step of\n",
      " |          the pipeline.\n",
      " |      \n",
      " |      y : iterable, default=None\n",
      " |          Training targets. Must fulfill label requirements for all steps\n",
      " |          of the pipeline.\n",
      " |      \n",
      " |      **fit_params : dict of string -> object\n",
      " |          Parameters passed to the ``fit`` method of each step, where\n",
      " |          each parameter name is prefixed such that parameter ``p`` for step\n",
      " |          ``s`` has key ``s__p``.\n",
      " |      \n",
      " |      Returns\n",
      " |      -------\n",
      " |      y_pred : array-like\n",
      " |  \n",
      " |  fit_transform(self, X, y=None, **fit_params)\n",
      " |      Fit the model and transform with the final estimator\n",
      " |      \n",
      " |      Fits all the transforms one after the other and transforms the\n",
      " |      data, then uses fit_transform on transformed data with the final\n",
      " |      estimator.\n",
      " |      \n",
      " |      Parameters\n",
      " |      ----------\n",
      " |      X : iterable\n",
      " |          Training data. Must fulfill input requirements of first step of the\n",
      " |          pipeline.\n",
      " |      \n",
      " |      y : iterable, default=None\n",
      " |          Training targets. Must fulfill label requirements for all steps of\n",
      " |          the pipeline.\n",
      " |      \n",
      " |      **fit_params : dict of string -> object\n",
      " |          Parameters passed to the ``fit`` method of each step, where\n",
      " |          each parameter name is prefixed such that parameter ``p`` for step\n",
      " |          ``s`` has key ``s__p``.\n",
      " |      \n",
      " |      Returns\n",
      " |      -------\n",
      " |      Xt : array-like, shape = [n_samples, n_transformed_features]\n",
      " |          Transformed samples\n",
      " |  \n",
      " |  get_params(self, deep=True)\n",
      " |      Get parameters for this estimator.\n",
      " |      \n",
      " |      Parameters\n",
      " |      ----------\n",
      " |      deep : boolean, optional\n",
      " |          If True, will return the parameters for this estimator and\n",
      " |          contained subobjects that are estimators.\n",
      " |      \n",
      " |      Returns\n",
      " |      -------\n",
      " |      params : mapping of string to any\n",
      " |          Parameter names mapped to their values.\n",
      " |  \n",
      " |  predict(self, X, **predict_params)\n",
      " |      Apply transforms to the data, and predict with the final estimator\n",
      " |      \n",
      " |      Parameters\n",
      " |      ----------\n",
      " |      X : iterable\n",
      " |          Data to predict on. Must fulfill input requirements of first step\n",
      " |          of the pipeline.\n",
      " |      \n",
      " |      **predict_params : dict of string -> object\n",
      " |          Parameters to the ``predict`` called at the end of all\n",
      " |          transformations in the pipeline. Note that while this may be\n",
      " |          used to return uncertainties from some models with return_std\n",
      " |          or return_cov, uncertainties that are generated by the\n",
      " |          transformations in the pipeline are not propagated to the\n",
      " |          final estimator.\n",
      " |      \n",
      " |      Returns\n",
      " |      -------\n",
      " |      y_pred : array-like\n",
      " |  \n",
      " |  predict_log_proba(self, X)\n",
      " |      Apply transforms, and predict_log_proba of the final estimator\n",
      " |      \n",
      " |      Parameters\n",
      " |      ----------\n",
      " |      X : iterable\n",
      " |          Data to predict on. Must fulfill input requirements of first step\n",
      " |          of the pipeline.\n",
      " |      \n",
      " |      Returns\n",
      " |      -------\n",
      " |      y_score : array-like, shape = [n_samples, n_classes]\n",
      " |  \n",
      " |  predict_proba(self, X)\n",
      " |      Apply transforms, and predict_proba of the final estimator\n",
      " |      \n",
      " |      Parameters\n",
      " |      ----------\n",
      " |      X : iterable\n",
      " |          Data to predict on. Must fulfill input requirements of first step\n",
      " |          of the pipeline.\n",
      " |      \n",
      " |      Returns\n",
      " |      -------\n",
      " |      y_proba : array-like, shape = [n_samples, n_classes]\n",
      " |  \n",
      " |  score(self, X, y=None, sample_weight=None)\n",
      " |      Apply transforms, and score with the final estimator\n",
      " |      \n",
      " |      Parameters\n",
      " |      ----------\n",
      " |      X : iterable\n",
      " |          Data to predict on. Must fulfill input requirements of first step\n",
      " |          of the pipeline.\n",
      " |      \n",
      " |      y : iterable, default=None\n",
      " |          Targets used for scoring. Must fulfill label requirements for all\n",
      " |          steps of the pipeline.\n",
      " |      \n",
      " |      sample_weight : array-like, default=None\n",
      " |          If not None, this argument is passed as ``sample_weight`` keyword\n",
      " |          argument to the ``score`` method of the final estimator.\n",
      " |      \n",
      " |      Returns\n",
      " |      -------\n",
      " |      score : float\n",
      " |  \n",
      " |  set_params(self, **kwargs)\n",
      " |      Set the parameters of this estimator.\n",
      " |      \n",
      " |      Valid parameter keys can be listed with ``get_params()``.\n",
      " |      \n",
      " |      Returns\n",
      " |      -------\n",
      " |      self\n",
      " |  \n",
      " |  ----------------------------------------------------------------------\n",
      " |  Data descriptors defined here:\n",
      " |  \n",
      " |  classes_\n",
      " |  \n",
      " |  inverse_transform\n",
      " |      Apply inverse transformations in reverse order\n",
      " |      \n",
      " |      All estimators in the pipeline must support ``inverse_transform``.\n",
      " |      \n",
      " |      Parameters\n",
      " |      ----------\n",
      " |      Xt : array-like, shape = [n_samples, n_transformed_features]\n",
      " |          Data samples, where ``n_samples`` is the number of samples and\n",
      " |          ``n_features`` is the number of features. Must fulfill\n",
      " |          input requirements of last step of pipeline's\n",
      " |          ``inverse_transform`` method.\n",
      " |      \n",
      " |      Returns\n",
      " |      -------\n",
      " |      Xt : array-like, shape = [n_samples, n_features]\n",
      " |  \n",
      " |  named_steps\n",
      " |  \n",
      " |  transform\n",
      " |      Apply transforms, and transform with the final estimator\n",
      " |      \n",
      " |      This also works where final estimator is ``None``: all prior\n",
      " |      transformations are applied.\n",
      " |      \n",
      " |      Parameters\n",
      " |      ----------\n",
      " |      X : iterable\n",
      " |          Data to transform. Must fulfill input requirements of first step\n",
      " |          of the pipeline.\n",
      " |      \n",
      " |      Returns\n",
      " |      -------\n",
      " |      Xt : array-like, shape = [n_samples, n_transformed_features]\n",
      " |  \n",
      " |  ----------------------------------------------------------------------\n",
      " |  Data and other attributes defined here:\n",
      " |  \n",
      " |  __abstractmethods__ = frozenset()\n",
      " |  \n",
      " |  ----------------------------------------------------------------------\n",
      " |  Methods inherited from sklearn.base.BaseEstimator:\n",
      " |  \n",
      " |  __getstate__(self)\n",
      " |  \n",
      " |  __repr__(self)\n",
      " |      Return repr(self).\n",
      " |  \n",
      " |  __setstate__(self, state)\n",
      " |  \n",
      " |  ----------------------------------------------------------------------\n",
      " |  Data descriptors inherited from sklearn.base.BaseEstimator:\n",
      " |  \n",
      " |  __dict__\n",
      " |      dictionary for instance variables (if defined)\n",
      " |  \n",
      " |  __weakref__\n",
      " |      list of weak references to the object (if defined)\n",
      "\n"
     ]
    }
   ],
   "source": [
    "help(best_run_weighted[1])"
   ]
  },
  {
   "cell_type": "markdown",
   "metadata": {},
   "source": [
    "## Test the best model\n",
    "Read in the test data."
   ]
  },
  {
   "cell_type": "code",
   "execution_count": 22,
   "metadata": {},
   "outputs": [],
   "source": [
    "test_path = os.path.join(data_path, \"balanced_pairs_test.tsv\")\n",
    "test = pd.read_csv(test_path, sep='\\t', encoding='latin1')"
   ]
  },
  {
   "cell_type": "code",
   "execution_count": 23,
   "metadata": {},
   "outputs": [],
   "source": [
    "test_X = test[feature_columns]\n",
    "test_y = test[label_column]"
   ]
  },
  {
   "cell_type": "code",
   "execution_count": 26,
   "metadata": {},
   "outputs": [],
   "source": [
    "test['probabilities'] = best_run_weighted[1].predict_proba(test_X)[:, 1]"
   ]
  },
  {
   "cell_type": "code",
   "execution_count": 27,
   "metadata": {},
   "outputs": [],
   "source": [
    "# Order the testing data by dupe Id and question AnswerId.\n",
    "test.sort_values([group_column, answerid_column], inplace=True)\n",
    "\n",
    "# Extract the ordered probabilities.\n",
    "probabilities = (\n",
    "    test.probabilities\n",
    "    .groupby(test[group_column], sort=False)\n",
    "    .apply(lambda x: tuple(x.values)))\n",
    "\n",
    "# Get the individual records.\n",
    "output_columns_x = ['Id_x', 'AnswerId_x', 'Text_x']\n",
    "test_score = (test[output_columns_x]\n",
    "              .drop_duplicates()\n",
    "              .set_index(group_column))\n",
    "test_score['probabilities'] = probabilities\n",
    "test_score.reset_index(inplace=True)\n",
    "test_score.columns = ['Id', 'AnswerId', 'Text', 'probabilities']"
   ]
  },
  {
   "cell_type": "code",
   "execution_count": 28,
   "metadata": {},
   "outputs": [],
   "source": [
    "import numpy as np\n",
    "\n",
    "def score_rank(scores):\n",
    "    \"\"\"Compute the ranks of the scores.\"\"\"\n",
    "    return pd.Series(scores).rank(ascending=False)\n",
    "\n",
    "\n",
    "def label_index(label, label_order):\n",
    "    \"\"\"Compute the index of label in label_order.\"\"\"\n",
    "    loc = np.where(label == label_order)[0]\n",
    "    if loc.shape[0] == 0:\n",
    "        return None\n",
    "    return loc[0]\n",
    "\n",
    "\n",
    "def label_rank(label, scores, label_order):\n",
    "    \"\"\"Compute the rank of label using the scores.\"\"\"\n",
    "    loc = label_index(label, label_order)\n",
    "    if loc is None:\n",
    "        return len(scores) + 1\n",
    "    return score_rank(scores)[loc]"
   ]
  },
  {
   "cell_type": "code",
   "execution_count": 29,
   "metadata": {},
   "outputs": [
    {
     "name": "stdout",
     "output_type": "stream",
     "text": [
      "Evaluating the model's performance.\n",
      "Accuracy @1 = 17.72%\n",
      "Accuracy @2 = 25.64%\n",
      "Accuracy @3 = 33.02%\n",
      "Mean Rank 33.6322\n"
     ]
    }
   ],
   "source": [
    "print(\"Evaluating the model's performance.\")\n",
    "\n",
    "# Collect the ordered AnswerId for computing scores.\n",
    "labels = sorted(train[answerid_column].unique())\n",
    "label_order = pd.DataFrame({'label': labels})\n",
    "\n",
    "# Compute the ranks of the correct answers.\n",
    "test_score['Ranks'] = test_score.apply(lambda x:\n",
    "                                       label_rank(x.AnswerId,\n",
    "                                                  x.probabilities,\n",
    "                                                  label_order.label),\n",
    "                                       axis=1)\n",
    "\n",
    "# Compute the number of correctly ranked answers\n",
    "args_rank = 3\n",
    "for i in range(1, args_rank+1):\n",
    "    print('Accuracy @{} = {:.2%}'\n",
    "          .format(i, (test_score['Ranks'] <= i).mean()))\n",
    "mean_rank = test_score['Ranks'].mean()\n",
    "print('Mean Rank {:.4f}'.format(mean_rank))"
   ]
  }
 ],
 "metadata": {
  "kernelspec": {
   "display_name": "Python 3",
   "language": "python",
   "name": "python3"
  },
  "language_info": {
   "codemirror_mode": {
    "name": "ipython",
    "version": 3
   },
   "file_extension": ".py",
   "mimetype": "text/x-python",
   "name": "python",
   "nbconvert_exporter": "python",
   "pygments_lexer": "ipython3",
   "version": "3.6.7"
  }
 },
 "nbformat": 4,
 "nbformat_minor": 2
}
