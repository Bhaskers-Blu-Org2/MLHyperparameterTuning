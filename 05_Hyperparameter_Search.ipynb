{
 "cells": [
  {
   "cell_type": "markdown",
   "metadata": {},
   "source": [
    "# Hyperparameter Search\n",
    "\n",
    "In this notebook we:\n",
    "- create the Batch AI job configuration parameters,\n",
    "- generate combinations of hyperparameter values,\n",
    "- generate a job for each combination,\n",
    "- submit the jobs to Batch AI,\n",
    "- extract the performance of each combination,\n",
    "- identify the combination that had the best performance, and\n",
    "- use this combination to generate a model that we save.\n",
    "\n",
    "## Imports"
   ]
  },
  {
   "cell_type": "code",
   "execution_count": 1,
   "metadata": {},
   "outputs": [],
   "source": [
    "%load_ext dotenv\n",
    "from __future__ import print_function\n",
    "import os\n",
    "import sys\n",
    "import glob\n",
    "import pandas as pd\n",
    "import dotenv\n",
    "import azure.mgmt.batchai.models as models\n",
    "from azure.storage.blob import BlockBlobService\n",
    "from azure.storage.file import FileService\n",
    "sys.path.append('.')\n",
    "import utilities as utils\n",
    "from utilities.job_factory import ParameterSweep, NumericParameter, DiscreteParameter"
   ]
  },
  {
   "cell_type": "markdown",
   "metadata": {},
   "source": [
    "In the next cell are the names of various files and services used or created in this notebook."
   ]
  },
  {
   "cell_type": "code",
   "execution_count": 2,
   "metadata": {},
   "outputs": [
    {
     "data": {
      "text/plain": [
       "(True, 'experiment_name', 'hyperparameter_search_experiment')"
      ]
     },
     "execution_count": 2,
     "metadata": {},
     "output_type": "execute_result"
    }
   ],
   "source": [
    "# The location of the dotenv file\n",
    "dotenv_path = dotenv.find_dotenv()\n",
    "# The mount point of the Azure file share in the Docker container\n",
    "dotenv.set_key(dotenv_path, 'azure_file_share_mount_path', 'afs')\n",
    "# The mount point of the Azure blob container in the the Docker container\n",
    "dotenv.set_key(dotenv_path, 'azure_blob_mount_path', 'bfs')\n",
    "# The Batch AI experiment\n",
    "dotenv.set_key(dotenv_path, 'experiment_name', 'hyperparameter_search_experiment')"
   ]
  },
  {
   "cell_type": "markdown",
   "metadata": {},
   "source": [
    "Import the contents of the `.env` file into the environment"
   ]
  },
  {
   "cell_type": "code",
   "execution_count": 3,
   "metadata": {},
   "outputs": [],
   "source": [
    "%dotenv -o"
   ]
  },
  {
   "cell_type": "markdown",
   "metadata": {},
   "source": [
    "Define Python variables used in this notebook."
   ]
  },
  {
   "cell_type": "code",
   "execution_count": 4,
   "metadata": {},
   "outputs": [],
   "source": [
    "configuration_path = os.getenv('configuration_path')\n",
    "image_name = os.getenv('docker_login') + os.getenv('image_repo') + ':latest'\n",
    "azure_blob_container_name = os.getenv('azure_blob_container_name')\n",
    "dataset_path = os.getenv('dataset_path')\n",
    "azure_file_share_name = os.getenv('azure_file_share_name')\n",
    "script_path = os.getenv('script_path')\n",
    "script_name = os.getenv('script_name')\n",
    "cluster_name = os.getenv('cluster_name')\n",
    "azure_blob_mount_path = os.getenv('azure_blob_mount_path')\n",
    "azure_file_share_mount_path = os.getenv('azure_file_share_mount_path')\n",
    "experiment_name = os.getenv('experiment_name')"
   ]
  },
  {
   "cell_type": "markdown",
   "metadata": {},
   "source": [
    "## Create a Batch AI client\n",
    "Read the configuration, and use it to create a Batch AI client."
   ]
  },
  {
   "cell_type": "code",
   "execution_count": 5,
   "metadata": {
    "nbpresent": {
     "id": "bfa11f00-8866-4051-bbfe-a9646e004910"
    }
   },
   "outputs": [],
   "source": [
    "cfg = utils.config.Configuration(configuration_path)\n",
    "client = utils.config.create_batchai_client(cfg)"
   ]
  },
  {
   "cell_type": "markdown",
   "metadata": {},
   "source": [
    "## Define the parameters common to all jobs\n",
    "Specify the Docker image used to create the Docker containers that run the experiment's jobs."
   ]
  },
  {
   "cell_type": "code",
   "execution_count": 6,
   "metadata": {},
   "outputs": [],
   "source": [
    "container_settings = models.ContainerSettings(\n",
    "    image_source_registry=models.ImageSourceRegistry(image=image_name)\n",
    ")"
   ]
  },
  {
   "cell_type": "markdown",
   "metadata": {},
   "source": [
    "Define the volumes to be mounted and their mount points in each Docker container's file system. These will give the containers access to the datasets and script, and a location to store results."
   ]
  },
  {
   "cell_type": "code",
   "execution_count": 7,
   "metadata": {},
   "outputs": [],
   "source": [
    "mount_volumes = models.MountVolumes(\n",
    "    azure_file_shares=[\n",
    "        models.AzureFileShareReference(\n",
    "            account_name=cfg.storage_account_name,\n",
    "            credentials=models.AzureStorageCredentialsInfo(\n",
    "                account_key=cfg.storage_account_key),\n",
    "            azure_file_url='https://{0}.file.core.windows.net/{1}'.format(\n",
    "                cfg.storage_account_name, azure_file_share_name),\n",
    "            relative_mount_path=azure_file_share_mount_path)\n",
    "    ],\n",
    "    azure_blob_file_systems=[\n",
    "        models.AzureBlobFileSystemReference(\n",
    "            account_name=cfg.storage_account_name,\n",
    "            credentials=models.AzureStorageCredentialsInfo(\n",
    "                account_key=cfg.storage_account_key),\n",
    "            container_name=azure_blob_container_name,\n",
    "            relative_mount_path=azure_blob_mount_path)\n",
    "    ]\n",
    ")"
   ]
  },
  {
   "cell_type": "markdown",
   "metadata": {},
   "source": [
    "Define the locations in a container's file system for\n",
    "- storing the job's standard output and error,\n",
    "- obtaining the datasets, and\n",
    "- storing the job's outputs."
   ]
  },
  {
   "cell_type": "code",
   "execution_count": 8,
   "metadata": {},
   "outputs": [],
   "source": [
    "std_out_err_path_prefix = '$AZ_BATCHAI_JOB_MOUNT_ROOT/{0}'.format(azure_file_share_mount_path)\n",
    "\n",
    "input_directories = [\n",
    "    models.InputDirectory(\n",
    "        id='SCRIPT',\n",
    "        path='$AZ_BATCHAI_JOB_MOUNT_ROOT/{0}/{1}'.format(azure_blob_mount_path, dataset_path))\n",
    "]\n",
    "\n",
    "output_directories = [\n",
    "    models.OutputDirectory(\n",
    "        id='ALL',\n",
    "        path_prefix='$AZ_BATCHAI_JOB_MOUNT_ROOT/{0}'.format(azure_file_share_mount_path))\n",
    "]"
   ]
  },
  {
   "cell_type": "markdown",
   "metadata": {},
   "source": [
    "Define the path to the training script."
   ]
  },
  {
   "cell_type": "code",
   "execution_count": 9,
   "metadata": {},
   "outputs": [],
   "source": [
    "python_script_file_path='$AZ_BATCHAI_JOB_MOUNT_ROOT/{0}/{1}/{2}'.format(\n",
    "    azure_file_share_mount_path, script_path, script_name)"
   ]
  },
  {
   "cell_type": "markdown",
   "metadata": {},
   "source": [
    "## Generate the combinations of hyperparameters\n",
    "Define specifications for the hyperparameters, and use them to create a parameter substitution object. We choose a single small value for the number of estimators that is enough to let us reliably identify the best configuration of the other parameters. Once we have the best combination, we will build a model using a large number of estimators to boost the performance."
   ]
  },
  {
   "cell_type": "code",
   "execution_count": 76,
   "metadata": {},
   "outputs": [],
   "source": [
    "param_specs = [\n",
    "    DiscreteParameter(\n",
    "        parameter_name=\"ESTIMATORS\",\n",
    "        values=[100]\n",
    "    ),\n",
    "    DiscreteParameter(\n",
    "        parameter_name=\"NGRAMS\",\n",
    "        values=[1, 2, 3, 4]\n",
    "    ),\n",
    "    DiscreteParameter(\n",
    "        parameter_name=\"MATCH\",\n",
    "        values=[10, 20, 30, 40]\n",
    "    ),\n",
    "    DiscreteParameter(\n",
    "        parameter_name=\"MIN_CHILD_SAMPLES\",\n",
    "        values=[5, 10, 20]\n",
    "    ),\n",
    "    DiscreteParameter(\n",
    "        parameter_name=\"WEIGHT\",\n",
    "        values=[\"\", \"--unweighted\"]\n",
    "    ),\n",
    "]\n",
    "\n",
    "parameters = ParameterSweep(param_specs)"
   ]
  },
  {
   "cell_type": "markdown",
   "metadata": {},
   "source": [
    "We define the command line arguments that will be passed to the training script. We will use the parameter substitution object to specify where we would like to substitute the values of the hyperparameters in the command line. Note that `parameters` is used like a dict, with the `parameter_name` being used as the key to specify which parameter to substitute. When `parameters.generate_jobs` is called below, the `parameters[name]` variables will be replaced with actual values."
   ]
  },
  {
   "cell_type": "code",
   "execution_count": 11,
   "metadata": {},
   "outputs": [],
   "source": [
    "command_line_args = '--inputs $AZ_BATCHAI_INPUT_SCRIPT --outputs $AZ_BATCHAI_OUTPUT_ALL'\\\n",
    "    ' --estimators {estimators}'\\\n",
    "    ' --ngrams {ngrams}'\\\n",
    "    ' --match {match}'\\\n",
    "    ' --min_child_samples {min_child_samples}'\\\n",
    "    ' {weight}'.format(\n",
    "    estimators=parameters['ESTIMATORS'],\n",
    "    ngrams=parameters['NGRAMS'],\n",
    "    match=parameters['MATCH'],\n",
    "    min_child_samples=parameters['MIN_CHILD_SAMPLES'],\n",
    "    weight=parameters['WEIGHT'])"
   ]
  },
  {
   "cell_type": "markdown",
   "metadata": {},
   "source": [
    "We put the script path and command line arguments together in a module settings structure."
   ]
  },
  {
   "cell_type": "code",
   "execution_count": 12,
   "metadata": {},
   "outputs": [
    {
     "name": "stdout",
     "output_type": "stream",
     "text": [
      "python $AZ_BATCHAI_JOB_MOUNT_ROOT/afs/scripts/TrainTestClassifier.py --inputs $AZ_BATCHAI_INPUT_SCRIPT --outputs $AZ_BATCHAI_OUTPUT_ALL --estimators PARAM_ESTIMATORS --ngrams PARAM_NGRAMS --match PARAM_MATCH --min_child_samples PARAM_MIN_CHILD_SAMPLES PARAM_WEIGHT\n"
     ]
    }
   ],
   "source": [
    "custom_toolkit_settings = models.CustomToolkitSettings(\n",
    "        command_line=' '.join(['python', python_script_file_path, command_line_args]),\n",
    "    )\n",
    "print(custom_toolkit_settings.command_line)"
   ]
  },
  {
   "cell_type": "markdown",
   "metadata": {},
   "source": [
    "## Generate the jobs for each combination\n",
    "Retrieve the cluster information."
   ]
  },
  {
   "cell_type": "code",
   "execution_count": 13,
   "metadata": {},
   "outputs": [],
   "source": [
    "cluster = client.clusters.get(cfg.resource_group, cfg.workspace, cluster_name)"
   ]
  },
  {
   "cell_type": "markdown",
   "metadata": {},
   "source": [
    "Use the information from above to create a job control parameter structure."
   ]
  },
  {
   "cell_type": "code",
   "execution_count": 14,
   "metadata": {},
   "outputs": [],
   "source": [
    "jcp = models.JobCreateParameters(\n",
    "    cluster=models.ResourceId(id=cluster.id),\n",
    "    node_count=1,\n",
    "    std_out_err_path_prefix=std_out_err_path_prefix,\n",
    "    input_directories=input_directories,\n",
    "    output_directories=output_directories,\n",
    "    mount_volumes=mount_volumes,\n",
    "    container_settings=container_settings,\n",
    "    custom_toolkit_settings=custom_toolkit_settings\n",
    "    )"
   ]
  },
  {
   "cell_type": "markdown",
   "metadata": {},
   "source": [
    "And generate a list of jobs to submit, each with a combinations of the parameters."
   ]
  },
  {
   "cell_type": "code",
   "execution_count": 79,
   "metadata": {
    "scrolled": true
   },
   "outputs": [
    {
     "name": "stdout",
     "output_type": "stream",
     "text": [
      "96 configurations.\n",
      "The command line of the first job is\n",
      "python $AZ_BATCHAI_JOB_MOUNT_ROOT/afs/scripts/TrainTestClassifier.py --inputs $AZ_BATCHAI_INPUT_SCRIPT --outputs $AZ_BATCHAI_OUTPUT_ALL --estimators 100 --ngrams 1 --match 10 --min_child_samples 5 \n"
     ]
    }
   ],
   "source": [
    "jobs_to_submit, param_combinations = parameters.generate_jobs(jcp)\n",
    "print('{:,} configurations.'.format(len(param_combinations)))\n",
    "print('The command line of the first job is\\n{}'.format(jobs_to_submit[0].custom_toolkit_settings.command_line))"
   ]
  },
  {
   "cell_type": "markdown",
   "metadata": {},
   "source": [
    "## Run the jobs in an experiment\n",
    "Create a new experiment called ```hyperparameter_search_experiment```."
   ]
  },
  {
   "cell_type": "code",
   "execution_count": 17,
   "metadata": {},
   "outputs": [],
   "source": [
    "experiment = client.experiments.create(cfg.resource_group, cfg.workspace, experiment_name).result()"
   ]
  },
  {
   "cell_type": "markdown",
   "metadata": {},
   "source": [
    "Submit the jobs to the experiment."
   ]
  },
  {
   "cell_type": "code",
   "execution_count": 18,
   "metadata": {},
   "outputs": [
    {
     "name": "stdout",
     "output_type": "stream",
     "text": [
      "Initialized JobSubmitter in resource group: maboumlbaiht | workspace: maboumlbaiht | experiment: hyperparameter_search_experiment\n",
      "Created job \"hyperparam_job2_5a6c4d52fead4a66\" with parameters {\"PARAM_ESTIMATORS\": \"100\", \"PARAM_MATCH\": \"40\", \"PARAM_MIN_CHILD_SAMPLES\": \"20\", \"PARAM_NGRAMS\": \"1\", \"PARAM_WEIGHT\": \"\"}\n",
      "Created job \"hyperparam_job2_7a76e9f504abf486\" with parameters {\"PARAM_ESTIMATORS\": \"100\", \"PARAM_MATCH\": \"10\", \"PARAM_MIN_CHILD_SAMPLES\": \"5\", \"PARAM_NGRAMS\": \"2\", \"PARAM_WEIGHT\": \"\"}\n",
      "Created job \"hyperparam_job2_bb7192ec74eb9352\" with parameters {\"PARAM_ESTIMATORS\": \"100\", \"PARAM_MATCH\": \"30\", \"PARAM_MIN_CHILD_SAMPLES\": \"20\", \"PARAM_NGRAMS\": \"1\", \"PARAM_WEIGHT\": \"--unweighted\"}\n",
      "Created job \"hyperparam_job2_6f2b89da3093ba5f\" with parameters {\"PARAM_ESTIMATORS\": \"100\", \"PARAM_MATCH\": \"10\", \"PARAM_MIN_CHILD_SAMPLES\": \"10\", \"PARAM_NGRAMS\": \"2\", \"PARAM_WEIGHT\": \"--unweighted\"}\n",
      "Created job \"hyperparam_job2_61aec25a28248cd0\" with parameters {\"PARAM_ESTIMATORS\": \"100\", \"PARAM_MATCH\": \"30\", \"PARAM_MIN_CHILD_SAMPLES\": \"5\", \"PARAM_NGRAMS\": \"1\", \"PARAM_WEIGHT\": \"\"}\n",
      "Created job \"hyperparam_job2_eada9813aad6c61b\" with parameters {\"PARAM_ESTIMATORS\": \"100\", \"PARAM_MATCH\": \"30\", \"PARAM_MIN_CHILD_SAMPLES\": \"20\", \"PARAM_NGRAMS\": \"1\", \"PARAM_WEIGHT\": \"\"}\n",
      "Created job \"hyperparam_job2_31ded63de96678bf\" with parameters {\"PARAM_ESTIMATORS\": \"100\", \"PARAM_MATCH\": \"20\", \"PARAM_MIN_CHILD_SAMPLES\": \"10\", \"PARAM_NGRAMS\": \"1\", \"PARAM_WEIGHT\": \"--unweighted\"}\n",
      "Created job \"hyperparam_job2_a84d603eb8a406be\" with parameters {\"PARAM_ESTIMATORS\": \"100\", \"PARAM_MATCH\": \"10\", \"PARAM_MIN_CHILD_SAMPLES\": \"20\", \"PARAM_NGRAMS\": \"2\", \"PARAM_WEIGHT\": \"\"}\n",
      "Created job \"hyperparam_job2_9fe81e200c48945a\" with parameters {\"PARAM_ESTIMATORS\": \"100\", \"PARAM_MATCH\": \"20\", \"PARAM_MIN_CHILD_SAMPLES\": \"20\", \"PARAM_NGRAMS\": \"1\", \"PARAM_WEIGHT\": \"\"}\n",
      "Created job \"hyperparam_job2_c43f08df747661c6\" with parameters {\"PARAM_ESTIMATORS\": \"100\", \"PARAM_MATCH\": \"10\", \"PARAM_MIN_CHILD_SAMPLES\": \"5\", \"PARAM_NGRAMS\": \"2\", \"PARAM_WEIGHT\": \"--unweighted\"}\n",
      "Created job \"hyperparam_job2_a14844115047c316\" with parameters {\"PARAM_ESTIMATORS\": \"100\", \"PARAM_MATCH\": \"10\", \"PARAM_MIN_CHILD_SAMPLES\": \"20\", \"PARAM_NGRAMS\": \"2\", \"PARAM_WEIGHT\": \"--unweighted\"}\n",
      "Created job \"hyperparam_job2_dff39480c2137191\" with parameters {\"PARAM_ESTIMATORS\": \"100\", \"PARAM_MATCH\": \"20\", \"PARAM_MIN_CHILD_SAMPLES\": \"10\", \"PARAM_NGRAMS\": \"1\", \"PARAM_WEIGHT\": \"\"}\n",
      "Created job \"hyperparam_job2_97a9df1324a18963\" with parameters {\"PARAM_ESTIMATORS\": \"100\", \"PARAM_MATCH\": \"40\", \"PARAM_MIN_CHILD_SAMPLES\": \"5\", \"PARAM_NGRAMS\": \"1\", \"PARAM_WEIGHT\": \"\"}\n",
      "Created job \"hyperparam_job2_ae439c7b1d318270\" with parameters {\"PARAM_ESTIMATORS\": \"100\", \"PARAM_MATCH\": \"10\", \"PARAM_MIN_CHILD_SAMPLES\": \"20\", \"PARAM_NGRAMS\": \"1\", \"PARAM_WEIGHT\": \"\"}\n",
      "Created job \"hyperparam_job2_2e3a108fe2475785\" with parameters {\"PARAM_ESTIMATORS\": \"100\", \"PARAM_MATCH\": \"10\", \"PARAM_MIN_CHILD_SAMPLES\": \"10\", \"PARAM_NGRAMS\": \"1\", \"PARAM_WEIGHT\": \"\"}\n",
      "Created job \"hyperparam_job2_cf425af122922304\" with parameters {\"PARAM_ESTIMATORS\": \"100\", \"PARAM_MATCH\": \"30\", \"PARAM_MIN_CHILD_SAMPLES\": \"10\", \"PARAM_NGRAMS\": \"1\", \"PARAM_WEIGHT\": \"\"}\n",
      "Created job \"hyperparam_job2_2f2346953bebc337\" with parameters {\"PARAM_ESTIMATORS\": \"100\", \"PARAM_MATCH\": \"30\", \"PARAM_MIN_CHILD_SAMPLES\": \"5\", \"PARAM_NGRAMS\": \"2\", \"PARAM_WEIGHT\": \"--unweighted\"}\n",
      "Created job \"hyperparam_job2_ecbb7fa75d4876f3\" with parameters {\"PARAM_ESTIMATORS\": \"100\", \"PARAM_MATCH\": \"10\", \"PARAM_MIN_CHILD_SAMPLES\": \"5\", \"PARAM_NGRAMS\": \"1\", \"PARAM_WEIGHT\": \"\"}\n",
      "Created job \"hyperparam_job2_01f64b7e905aab32\" with parameters {\"PARAM_ESTIMATORS\": \"100\", \"PARAM_MATCH\": \"30\", \"PARAM_MIN_CHILD_SAMPLES\": \"10\", \"PARAM_NGRAMS\": \"2\", \"PARAM_WEIGHT\": \"--unweighted\"}\n",
      "Created job \"hyperparam_job2_7c512966ffbd7c70\" with parameters {\"PARAM_ESTIMATORS\": \"100\", \"PARAM_MATCH\": \"10\", \"PARAM_MIN_CHILD_SAMPLES\": \"20\", \"PARAM_NGRAMS\": \"1\", \"PARAM_WEIGHT\": \"--unweighted\"}\n",
      "Created job \"hyperparam_job2_b56f5fda4c214434\" with parameters {\"PARAM_ESTIMATORS\": \"100\", \"PARAM_MATCH\": \"30\", \"PARAM_MIN_CHILD_SAMPLES\": \"10\", \"PARAM_NGRAMS\": \"2\", \"PARAM_WEIGHT\": \"\"}\n",
      "Created job \"hyperparam_job2_c660eb445d5d2e08\" with parameters {\"PARAM_ESTIMATORS\": \"100\", \"PARAM_MATCH\": \"30\", \"PARAM_MIN_CHILD_SAMPLES\": \"10\", \"PARAM_NGRAMS\": \"1\", \"PARAM_WEIGHT\": \"--unweighted\"}\n",
      "Created job \"hyperparam_job2_1b44fdcb2b4cac6a\" with parameters {\"PARAM_ESTIMATORS\": \"100\", \"PARAM_MATCH\": \"20\", \"PARAM_MIN_CHILD_SAMPLES\": \"20\", \"PARAM_NGRAMS\": \"2\", \"PARAM_WEIGHT\": \"\"}\n",
      "Created job \"hyperparam_job2_7e6ceb847c805e22\" with parameters {\"PARAM_ESTIMATORS\": \"100\", \"PARAM_MATCH\": \"40\", \"PARAM_MIN_CHILD_SAMPLES\": \"10\", \"PARAM_NGRAMS\": \"1\", \"PARAM_WEIGHT\": \"--unweighted\"}\n",
      "Created job \"hyperparam_job2_2de02fb86cab2c5c\" with parameters {\"PARAM_ESTIMATORS\": \"100\", \"PARAM_MATCH\": \"20\", \"PARAM_MIN_CHILD_SAMPLES\": \"5\", \"PARAM_NGRAMS\": \"2\", \"PARAM_WEIGHT\": \"--unweighted\"}\n",
      "Created job \"hyperparam_job2_dca9ac743c8f42b6\" with parameters {\"PARAM_ESTIMATORS\": \"100\", \"PARAM_MATCH\": \"20\", \"PARAM_MIN_CHILD_SAMPLES\": \"10\", \"PARAM_NGRAMS\": \"2\", \"PARAM_WEIGHT\": \"\"}\n",
      "Created job \"hyperparam_job2_d22c82b80c06f19a\" with parameters {\"PARAM_ESTIMATORS\": \"100\", \"PARAM_MATCH\": \"20\", \"PARAM_MIN_CHILD_SAMPLES\": \"5\", \"PARAM_NGRAMS\": \"2\", \"PARAM_WEIGHT\": \"\"}\n",
      "Created job \"hyperparam_job2_2d33971677e9d0b7\" with parameters {\"PARAM_ESTIMATORS\": \"100\", \"PARAM_MATCH\": \"20\", \"PARAM_MIN_CHILD_SAMPLES\": \"20\", \"PARAM_NGRAMS\": \"2\", \"PARAM_WEIGHT\": \"--unweighted\"}\n",
      "Created job \"hyperparam_job2_b8cfac121641dbab\" with parameters {\"PARAM_ESTIMATORS\": \"100\", \"PARAM_MATCH\": \"30\", \"PARAM_MIN_CHILD_SAMPLES\": \"5\", \"PARAM_NGRAMS\": \"2\", \"PARAM_WEIGHT\": \"\"}\n",
      "Created job \"hyperparam_job2_d5cfa041884e921c\" with parameters {\"PARAM_ESTIMATORS\": \"100\", \"PARAM_MATCH\": \"30\", \"PARAM_MIN_CHILD_SAMPLES\": \"20\", \"PARAM_NGRAMS\": \"2\", \"PARAM_WEIGHT\": \"\"}\n",
      "Created job \"hyperparam_job2_0ded5a34b09aa091\" with parameters {\"PARAM_ESTIMATORS\": \"100\", \"PARAM_MATCH\": \"20\", \"PARAM_MIN_CHILD_SAMPLES\": \"10\", \"PARAM_NGRAMS\": \"2\", \"PARAM_WEIGHT\": \"--unweighted\"}\n",
      "Created job \"hyperparam_job2_c0e306fb1fc94ffa\" with parameters {\"PARAM_ESTIMATORS\": \"100\", \"PARAM_MATCH\": \"10\", \"PARAM_MIN_CHILD_SAMPLES\": \"10\", \"PARAM_NGRAMS\": \"2\", \"PARAM_WEIGHT\": \"\"}\n",
      "Created job \"hyperparam_job2_84536d864ccb97bb\" with parameters {\"PARAM_ESTIMATORS\": \"100\", \"PARAM_MATCH\": \"10\", \"PARAM_MIN_CHILD_SAMPLES\": \"5\", \"PARAM_NGRAMS\": \"1\", \"PARAM_WEIGHT\": \"--unweighted\"}\n",
      "Created job \"hyperparam_job2_034bda940fc52310\" with parameters {\"PARAM_ESTIMATORS\": \"100\", \"PARAM_MATCH\": \"30\", \"PARAM_MIN_CHILD_SAMPLES\": \"5\", \"PARAM_NGRAMS\": \"1\", \"PARAM_WEIGHT\": \"--unweighted\"}\n",
      "Created job \"hyperparam_job2_516169af8c376859\" with parameters {\"PARAM_ESTIMATORS\": \"100\", \"PARAM_MATCH\": \"30\", \"PARAM_MIN_CHILD_SAMPLES\": \"20\", \"PARAM_NGRAMS\": \"2\", \"PARAM_WEIGHT\": \"--unweighted\"}\n",
      "Created job \"hyperparam_job2_aac1bb29dfdae029\" with parameters {\"PARAM_ESTIMATORS\": \"100\", \"PARAM_MATCH\": \"40\", \"PARAM_MIN_CHILD_SAMPLES\": \"20\", \"PARAM_NGRAMS\": \"1\", \"PARAM_WEIGHT\": \"--unweighted\"}\n",
      "Created job \"hyperparam_job2_d26b9277eee76a8f\" with parameters {\"PARAM_ESTIMATORS\": \"100\", \"PARAM_MATCH\": \"10\", \"PARAM_MIN_CHILD_SAMPLES\": \"20\", \"PARAM_NGRAMS\": \"3\", \"PARAM_WEIGHT\": \"\"}\n",
      "Created job \"hyperparam_job2_c6d08bc8abf4c1d5\" with parameters {\"PARAM_ESTIMATORS\": \"100\", \"PARAM_MATCH\": \"40\", \"PARAM_MIN_CHILD_SAMPLES\": \"20\", \"PARAM_NGRAMS\": \"2\", \"PARAM_WEIGHT\": \"--unweighted\"}\n",
      "Created job \"hyperparam_job2_8478be0a0e7a6776\" with parameters {\"PARAM_ESTIMATORS\": \"100\", \"PARAM_MATCH\": \"10\", \"PARAM_MIN_CHILD_SAMPLES\": \"20\", \"PARAM_NGRAMS\": \"3\", \"PARAM_WEIGHT\": \"--unweighted\"}\n",
      "Created job \"hyperparam_job2_aafe8653b091080b\" with parameters {\"PARAM_ESTIMATORS\": \"100\", \"PARAM_MATCH\": \"40\", \"PARAM_MIN_CHILD_SAMPLES\": \"10\", \"PARAM_NGRAMS\": \"1\", \"PARAM_WEIGHT\": \"\"}\n",
      "Created job \"hyperparam_job2_b95547e8f80f3860\" with parameters {\"PARAM_ESTIMATORS\": \"100\", \"PARAM_MATCH\": \"20\", \"PARAM_MIN_CHILD_SAMPLES\": \"10\", \"PARAM_NGRAMS\": \"3\", \"PARAM_WEIGHT\": \"\"}\n",
      "Created job \"hyperparam_job2_703f2e97f134c786\" with parameters {\"PARAM_ESTIMATORS\": \"100\", \"PARAM_MATCH\": \"20\", \"PARAM_MIN_CHILD_SAMPLES\": \"5\", \"PARAM_NGRAMS\": \"3\", \"PARAM_WEIGHT\": \"--unweighted\"}\n",
      "Created job \"hyperparam_job2_78d9f770d5837c32\" with parameters {\"PARAM_ESTIMATORS\": \"100\", \"PARAM_MATCH\": \"40\", \"PARAM_MIN_CHILD_SAMPLES\": \"10\", \"PARAM_NGRAMS\": \"2\", \"PARAM_WEIGHT\": \"--unweighted\"}\n"
     ]
    },
    {
     "name": "stdout",
     "output_type": "stream",
     "text": [
      "Created job \"hyperparam_job2_9c90bc1854ddd3c4\" with parameters {\"PARAM_ESTIMATORS\": \"100\", \"PARAM_MATCH\": \"40\", \"PARAM_MIN_CHILD_SAMPLES\": \"5\", \"PARAM_NGRAMS\": \"2\", \"PARAM_WEIGHT\": \"\"}\n",
      "Created job \"hyperparam_job2_d762764c5d870388\" with parameters {\"PARAM_ESTIMATORS\": \"100\", \"PARAM_MATCH\": \"10\", \"PARAM_MIN_CHILD_SAMPLES\": \"5\", \"PARAM_NGRAMS\": \"3\", \"PARAM_WEIGHT\": \"\"}\n",
      "Created job \"hyperparam_job2_94970e52354dcc63\" with parameters {\"PARAM_ESTIMATORS\": \"100\", \"PARAM_MATCH\": \"10\", \"PARAM_MIN_CHILD_SAMPLES\": \"10\", \"PARAM_NGRAMS\": \"3\", \"PARAM_WEIGHT\": \"\"}\n",
      "Created job \"hyperparam_job2_43c2207cff050623\" with parameters {\"PARAM_ESTIMATORS\": \"100\", \"PARAM_MATCH\": \"10\", \"PARAM_MIN_CHILD_SAMPLES\": \"10\", \"PARAM_NGRAMS\": \"3\", \"PARAM_WEIGHT\": \"--unweighted\"}\n",
      "Created job \"hyperparam_job2_9cfc3bead1e3dab3\" with parameters {\"PARAM_ESTIMATORS\": \"100\", \"PARAM_MATCH\": \"40\", \"PARAM_MIN_CHILD_SAMPLES\": \"20\", \"PARAM_NGRAMS\": \"2\", \"PARAM_WEIGHT\": \"\"}\n",
      "Created job \"hyperparam_job2_236741c3f6f2eb92\" with parameters {\"PARAM_ESTIMATORS\": \"100\", \"PARAM_MATCH\": \"40\", \"PARAM_MIN_CHILD_SAMPLES\": \"5\", \"PARAM_NGRAMS\": \"2\", \"PARAM_WEIGHT\": \"--unweighted\"}\n",
      "Created job \"hyperparam_job2_011aa77aaf8fdc76\" with parameters {\"PARAM_ESTIMATORS\": \"100\", \"PARAM_MATCH\": \"40\", \"PARAM_MIN_CHILD_SAMPLES\": \"10\", \"PARAM_NGRAMS\": \"2\", \"PARAM_WEIGHT\": \"\"}\n",
      "Created job \"hyperparam_job2_dd523d61e0eed208\" with parameters {\"PARAM_ESTIMATORS\": \"100\", \"PARAM_MATCH\": \"20\", \"PARAM_MIN_CHILD_SAMPLES\": \"5\", \"PARAM_NGRAMS\": \"1\", \"PARAM_WEIGHT\": \"\"}\n",
      "Created job \"hyperparam_job2_73bd0f0539e983eb\" with parameters {\"PARAM_ESTIMATORS\": \"100\", \"PARAM_MATCH\": \"10\", \"PARAM_MIN_CHILD_SAMPLES\": \"10\", \"PARAM_NGRAMS\": \"1\", \"PARAM_WEIGHT\": \"--unweighted\"}\n",
      "Created job \"hyperparam_job2_2f879da7c7499d53\" with parameters {\"PARAM_ESTIMATORS\": \"100\", \"PARAM_MATCH\": \"10\", \"PARAM_MIN_CHILD_SAMPLES\": \"5\", \"PARAM_NGRAMS\": \"3\", \"PARAM_WEIGHT\": \"--unweighted\"}\n",
      "Created job \"hyperparam_job2_e7d61eb55fab835f\" with parameters {\"PARAM_ESTIMATORS\": \"100\", \"PARAM_MATCH\": \"40\", \"PARAM_MIN_CHILD_SAMPLES\": \"5\", \"PARAM_NGRAMS\": \"1\", \"PARAM_WEIGHT\": \"--unweighted\"}\n",
      "Created job \"hyperparam_job2_3aca4c96ca4ddc6c\" with parameters {\"PARAM_ESTIMATORS\": \"100\", \"PARAM_MATCH\": \"20\", \"PARAM_MIN_CHILD_SAMPLES\": \"20\", \"PARAM_NGRAMS\": \"1\", \"PARAM_WEIGHT\": \"--unweighted\"}\n",
      "Created job \"hyperparam_job2_5487341aad3286cc\" with parameters {\"PARAM_ESTIMATORS\": \"100\", \"PARAM_MATCH\": \"20\", \"PARAM_MIN_CHILD_SAMPLES\": \"5\", \"PARAM_NGRAMS\": \"1\", \"PARAM_WEIGHT\": \"--unweighted\"}\n",
      "Created job \"hyperparam_job2_f6e14fcef4538d9c\" with parameters {\"PARAM_ESTIMATORS\": \"100\", \"PARAM_MATCH\": \"20\", \"PARAM_MIN_CHILD_SAMPLES\": \"5\", \"PARAM_NGRAMS\": \"3\", \"PARAM_WEIGHT\": \"\"}\n",
      "Created job \"hyperparam_job2_5a551fa854f0cd57\" with parameters {\"PARAM_ESTIMATORS\": \"100\", \"PARAM_MATCH\": \"20\", \"PARAM_MIN_CHILD_SAMPLES\": \"10\", \"PARAM_NGRAMS\": \"3\", \"PARAM_WEIGHT\": \"--unweighted\"}\n",
      "Created job \"hyperparam_job2_34f3b269ae6a28a2\" with parameters {\"PARAM_ESTIMATORS\": \"100\", \"PARAM_MATCH\": \"20\", \"PARAM_MIN_CHILD_SAMPLES\": \"20\", \"PARAM_NGRAMS\": \"3\", \"PARAM_WEIGHT\": \"\"}\n",
      "Created job \"hyperparam_job2_3d5c3fe6bef7bcc4\" with parameters {\"PARAM_ESTIMATORS\": \"100\", \"PARAM_MATCH\": \"40\", \"PARAM_MIN_CHILD_SAMPLES\": \"10\", \"PARAM_NGRAMS\": \"3\", \"PARAM_WEIGHT\": \"\"}\n",
      "Created job \"hyperparam_job2_2a8da46377892ce9\" with parameters {\"PARAM_ESTIMATORS\": \"100\", \"PARAM_MATCH\": \"40\", \"PARAM_MIN_CHILD_SAMPLES\": \"5\", \"PARAM_NGRAMS\": \"3\", \"PARAM_WEIGHT\": \"\"}\n",
      "Created job \"hyperparam_job2_84c8aca9865be1c1\" with parameters {\"PARAM_ESTIMATORS\": \"100\", \"PARAM_MATCH\": \"40\", \"PARAM_MIN_CHILD_SAMPLES\": \"10\", \"PARAM_NGRAMS\": \"3\", \"PARAM_WEIGHT\": \"--unweighted\"}\n",
      "Created job \"hyperparam_job2_f9ab3dc6a4439eef\" with parameters {\"PARAM_ESTIMATORS\": \"100\", \"PARAM_MATCH\": \"30\", \"PARAM_MIN_CHILD_SAMPLES\": \"10\", \"PARAM_NGRAMS\": \"3\", \"PARAM_WEIGHT\": \"\"}\n",
      "Created job \"hyperparam_job2_e6b88ab4c7954fbe\" with parameters {\"PARAM_ESTIMATORS\": \"100\", \"PARAM_MATCH\": \"40\", \"PARAM_MIN_CHILD_SAMPLES\": \"5\", \"PARAM_NGRAMS\": \"3\", \"PARAM_WEIGHT\": \"--unweighted\"}\n",
      "Created job \"hyperparam_job2_f5ba29a3a3f6de81\" with parameters {\"PARAM_ESTIMATORS\": \"100\", \"PARAM_MATCH\": \"20\", \"PARAM_MIN_CHILD_SAMPLES\": \"20\", \"PARAM_NGRAMS\": \"3\", \"PARAM_WEIGHT\": \"--unweighted\"}\n",
      "Created job \"hyperparam_job2_c948e1be2e839841\" with parameters {\"PARAM_ESTIMATORS\": \"100\", \"PARAM_MATCH\": \"10\", \"PARAM_MIN_CHILD_SAMPLES\": \"10\", \"PARAM_NGRAMS\": \"4\", \"PARAM_WEIGHT\": \"--unweighted\"}\n",
      "Created job \"hyperparam_job2_b72059e30eef0ba9\" with parameters {\"PARAM_ESTIMATORS\": \"100\", \"PARAM_MATCH\": \"30\", \"PARAM_MIN_CHILD_SAMPLES\": \"10\", \"PARAM_NGRAMS\": \"3\", \"PARAM_WEIGHT\": \"--unweighted\"}\n",
      "Created job \"hyperparam_job2_b6f498a41e8e081b\" with parameters {\"PARAM_ESTIMATORS\": \"100\", \"PARAM_MATCH\": \"30\", \"PARAM_MIN_CHILD_SAMPLES\": \"20\", \"PARAM_NGRAMS\": \"4\", \"PARAM_WEIGHT\": \"\"}\n",
      "Created job \"hyperparam_job2_49ea70f975e83454\" with parameters {\"PARAM_ESTIMATORS\": \"100\", \"PARAM_MATCH\": \"30\", \"PARAM_MIN_CHILD_SAMPLES\": \"5\", \"PARAM_NGRAMS\": \"3\", \"PARAM_WEIGHT\": \"--unweighted\"}\n",
      "Created job \"hyperparam_job2_2e9fb86791dd36fc\" with parameters {\"PARAM_ESTIMATORS\": \"100\", \"PARAM_MATCH\": \"20\", \"PARAM_MIN_CHILD_SAMPLES\": \"10\", \"PARAM_NGRAMS\": \"4\", \"PARAM_WEIGHT\": \"\"}\n",
      "Created job \"hyperparam_job2_0d5d4971be020b44\" with parameters {\"PARAM_ESTIMATORS\": \"100\", \"PARAM_MATCH\": \"30\", \"PARAM_MIN_CHILD_SAMPLES\": \"5\", \"PARAM_NGRAMS\": \"4\", \"PARAM_WEIGHT\": \"--unweighted\"}\n",
      "Created job \"hyperparam_job2_017988378e93b1c7\" with parameters {\"PARAM_ESTIMATORS\": \"100\", \"PARAM_MATCH\": \"10\", \"PARAM_MIN_CHILD_SAMPLES\": \"5\", \"PARAM_NGRAMS\": \"4\", \"PARAM_WEIGHT\": \"--unweighted\"}\n",
      "Created job \"hyperparam_job2_ace28c7beea0803a\" with parameters {\"PARAM_ESTIMATORS\": \"100\", \"PARAM_MATCH\": \"30\", \"PARAM_MIN_CHILD_SAMPLES\": \"10\", \"PARAM_NGRAMS\": \"4\", \"PARAM_WEIGHT\": \"\"}\n",
      "Created job \"hyperparam_job2_8c80fb23870d528c\" with parameters {\"PARAM_ESTIMATORS\": \"100\", \"PARAM_MATCH\": \"10\", \"PARAM_MIN_CHILD_SAMPLES\": \"20\", \"PARAM_NGRAMS\": \"4\", \"PARAM_WEIGHT\": \"\"}\n",
      "Created job \"hyperparam_job2_c0eeed662e953b2e\" with parameters {\"PARAM_ESTIMATORS\": \"100\", \"PARAM_MATCH\": \"40\", \"PARAM_MIN_CHILD_SAMPLES\": \"20\", \"PARAM_NGRAMS\": \"4\", \"PARAM_WEIGHT\": \"--unweighted\"}\n",
      "Created job \"hyperparam_job2_e4acb27764ec9185\" with parameters {\"PARAM_ESTIMATORS\": \"100\", \"PARAM_MATCH\": \"40\", \"PARAM_MIN_CHILD_SAMPLES\": \"5\", \"PARAM_NGRAMS\": \"4\", \"PARAM_WEIGHT\": \"\"}\n",
      "Created job \"hyperparam_job2_d22550d32d577cff\" with parameters {\"PARAM_ESTIMATORS\": \"100\", \"PARAM_MATCH\": \"20\", \"PARAM_MIN_CHILD_SAMPLES\": \"10\", \"PARAM_NGRAMS\": \"4\", \"PARAM_WEIGHT\": \"--unweighted\"}\n",
      "Created job \"hyperparam_job2_b85f532baf0bfb80\" with parameters {\"PARAM_ESTIMATORS\": \"100\", \"PARAM_MATCH\": \"20\", \"PARAM_MIN_CHILD_SAMPLES\": \"20\", \"PARAM_NGRAMS\": \"4\", \"PARAM_WEIGHT\": \"\"}\n",
      "Created job \"hyperparam_job2_84e0b64d1b63cb86\" with parameters {\"PARAM_ESTIMATORS\": \"100\", \"PARAM_MATCH\": \"20\", \"PARAM_MIN_CHILD_SAMPLES\": \"20\", \"PARAM_NGRAMS\": \"4\", \"PARAM_WEIGHT\": \"--unweighted\"}\n",
      "Created job \"hyperparam_job2_c182d0daf2ee76d1\" with parameters {\"PARAM_ESTIMATORS\": \"100\", \"PARAM_MATCH\": \"40\", \"PARAM_MIN_CHILD_SAMPLES\": \"5\", \"PARAM_NGRAMS\": \"4\", \"PARAM_WEIGHT\": \"--unweighted\"}\n",
      "Created job \"hyperparam_job2_67ca09ac1a7de890\" with parameters {\"PARAM_ESTIMATORS\": \"100\", \"PARAM_MATCH\": \"10\", \"PARAM_MIN_CHILD_SAMPLES\": \"20\", \"PARAM_NGRAMS\": \"4\", \"PARAM_WEIGHT\": \"--unweighted\"}\n",
      "Created job \"hyperparam_job2_854fab84efd01649\" with parameters {\"PARAM_ESTIMATORS\": \"100\", \"PARAM_MATCH\": \"40\", \"PARAM_MIN_CHILD_SAMPLES\": \"20\", \"PARAM_NGRAMS\": \"3\", \"PARAM_WEIGHT\": \"--unweighted\"}\n",
      "Created job \"hyperparam_job2_db3b01f15519b463\" with parameters {\"PARAM_ESTIMATORS\": \"100\", \"PARAM_MATCH\": \"30\", \"PARAM_MIN_CHILD_SAMPLES\": \"20\", \"PARAM_NGRAMS\": \"3\", \"PARAM_WEIGHT\": \"--unweighted\"}\n",
      "Created job \"hyperparam_job2_c1eedafddfc97679\" with parameters {\"PARAM_ESTIMATORS\": \"100\", \"PARAM_MATCH\": \"30\", \"PARAM_MIN_CHILD_SAMPLES\": \"10\", \"PARAM_NGRAMS\": \"4\", \"PARAM_WEIGHT\": \"--unweighted\"}\n",
      "Created job \"hyperparam_job2_ae519ab83e976aed\" with parameters {\"PARAM_ESTIMATORS\": \"100\", \"PARAM_MATCH\": \"40\", \"PARAM_MIN_CHILD_SAMPLES\": \"20\", \"PARAM_NGRAMS\": \"3\", \"PARAM_WEIGHT\": \"\"}\n",
      "Created job \"hyperparam_job2_3f07da42eb068b3c\" with parameters {\"PARAM_ESTIMATORS\": \"100\", \"PARAM_MATCH\": \"30\", \"PARAM_MIN_CHILD_SAMPLES\": \"20\", \"PARAM_NGRAMS\": \"3\", \"PARAM_WEIGHT\": \"\"}\n"
     ]
    },
    {
     "name": "stdout",
     "output_type": "stream",
     "text": [
      "Created job \"hyperparam_job2_371866c6122d8b9a\" with parameters {\"PARAM_ESTIMATORS\": \"100\", \"PARAM_MATCH\": \"20\", \"PARAM_MIN_CHILD_SAMPLES\": \"5\", \"PARAM_NGRAMS\": \"4\", \"PARAM_WEIGHT\": \"--unweighted\"}\n",
      "Created job \"hyperparam_job2_6215082a18ac72ed\" with parameters {\"PARAM_ESTIMATORS\": \"100\", \"PARAM_MATCH\": \"40\", \"PARAM_MIN_CHILD_SAMPLES\": \"20\", \"PARAM_NGRAMS\": \"4\", \"PARAM_WEIGHT\": \"\"}\n",
      "Created job \"hyperparam_job2_ba17662995c3be80\" with parameters {\"PARAM_ESTIMATORS\": \"100\", \"PARAM_MATCH\": \"10\", \"PARAM_MIN_CHILD_SAMPLES\": \"5\", \"PARAM_NGRAMS\": \"4\", \"PARAM_WEIGHT\": \"\"}\n",
      "Created job \"hyperparam_job2_3f2193c7b3d07087\" with parameters {\"PARAM_ESTIMATORS\": \"100\", \"PARAM_MATCH\": \"30\", \"PARAM_MIN_CHILD_SAMPLES\": \"5\", \"PARAM_NGRAMS\": \"4\", \"PARAM_WEIGHT\": \"\"}\n",
      "Created job \"hyperparam_job2_bb2ed9533357f067\" with parameters {\"PARAM_ESTIMATORS\": \"100\", \"PARAM_MATCH\": \"40\", \"PARAM_MIN_CHILD_SAMPLES\": \"10\", \"PARAM_NGRAMS\": \"4\", \"PARAM_WEIGHT\": \"--unweighted\"}\n",
      "Created job \"hyperparam_job2_9617fbd2071dc607\" with parameters {\"PARAM_ESTIMATORS\": \"100\", \"PARAM_MATCH\": \"20\", \"PARAM_MIN_CHILD_SAMPLES\": \"5\", \"PARAM_NGRAMS\": \"4\", \"PARAM_WEIGHT\": \"\"}\n",
      "Created job \"hyperparam_job2_f16fcd40e925e183\" with parameters {\"PARAM_ESTIMATORS\": \"100\", \"PARAM_MATCH\": \"10\", \"PARAM_MIN_CHILD_SAMPLES\": \"10\", \"PARAM_NGRAMS\": \"4\", \"PARAM_WEIGHT\": \"\"}\n",
      "Created job \"hyperparam_job2_826a1c68cf5d7b0b\" with parameters {\"PARAM_ESTIMATORS\": \"100\", \"PARAM_MATCH\": \"30\", \"PARAM_MIN_CHILD_SAMPLES\": \"20\", \"PARAM_NGRAMS\": \"4\", \"PARAM_WEIGHT\": \"--unweighted\"}\n",
      "Created job \"hyperparam_job2_e84c12e442eefd51\" with parameters {\"PARAM_ESTIMATORS\": \"100\", \"PARAM_MATCH\": \"40\", \"PARAM_MIN_CHILD_SAMPLES\": \"10\", \"PARAM_NGRAMS\": \"4\", \"PARAM_WEIGHT\": \"\"}\n",
      "Created job \"hyperparam_job2_4a065cb5b8a28759\" with parameters {\"PARAM_ESTIMATORS\": \"100\", \"PARAM_MATCH\": \"30\", \"PARAM_MIN_CHILD_SAMPLES\": \"5\", \"PARAM_NGRAMS\": \"3\", \"PARAM_WEIGHT\": \"\"}\n",
      "CPU times: user 4.69 s, sys: 647 ms, total: 5.34 s\n",
      "Wall time: 12.9 s\n"
     ]
    }
   ],
   "source": [
    "experiment_utils = utils.experiment.ExperimentUtils(client, cfg.resource_group, cfg.workspace, experiment_name)\n",
    "jobs = experiment_utils.submit_jobs(jobs_to_submit, 'hyperparam_job2').result()"
   ]
  },
  {
   "cell_type": "markdown",
   "metadata": {},
   "source": [
    "Wait for the jobs to complete. This should take about two hours. You can interrupt and restart this cell as needed."
   ]
  },
  {
   "cell_type": "code",
   "execution_count": 28,
   "metadata": {},
   "outputs": [
    {
     "name": "stdout",
     "output_type": "stream",
     "text": [
      "All jobs completed.\n",
      "CPU times: user 143 ms, sys: 7.66 ms, total: 151 ms\n",
      "Wall time: 1.21 s\n"
     ]
    }
   ],
   "source": [
    "%%time\n",
    "_ = experiment_utils.wait_all_jobs()"
   ]
  },
  {
   "cell_type": "markdown",
   "metadata": {},
   "source": [
    "If you need to interrupt the experiment before it is complete, you can delete all the queued and running jobs on the cluster."
   ]
  },
  {
   "cell_type": "code",
   "execution_count": null,
   "metadata": {},
   "outputs": [],
   "source": [
    "experiment_utils.delete_jobs_in_experiment(execution_state=models.ExecutionState.queued)\n",
    "experiment_utils.delete_jobs_in_experiment(execution_state=models.ExecutionState.running)"
   ]
  },
  {
   "cell_type": "markdown",
   "metadata": {},
   "source": [
    "Define an extractor that pulls desired metric from each job's log file. \n",
    "- In this example, we extract the number between \"`INFO:root:Accuracy @3 =`\" and \"`%`\"."
   ]
  },
  {
   "cell_type": "code",
   "execution_count": 20,
   "metadata": {},
   "outputs": [],
   "source": [
    "metric_extractor = utils.job.MetricExtractor(\n",
    "                        output_dir_id='ALL',\n",
    "                        logfile='TrainTestClassifier.log',\n",
    "                        regex='INFO:root:Accuracy @3 = (.*?)\\%')"
   ]
  },
  {
   "cell_type": "markdown",
   "metadata": {},
   "source": [
    "Get the metric values from the log files of the finished jobs."
   ]
  },
  {
   "cell_type": "code",
   "execution_count": 22,
   "metadata": {},
   "outputs": [
    {
     "name": "stdout",
     "output_type": "stream",
     "text": [
      "All jobs completed.\n"
     ]
    }
   ],
   "source": [
    "%%time\n",
    "results = experiment_utils.get_metrics_for_jobs(jobs, metric_extractor)"
   ]
  },
  {
   "cell_type": "markdown",
   "metadata": {},
   "source": [
    "Sort the metrics in decreasing order, and print a summary description of the values."
   ]
  },
  {
   "cell_type": "code",
   "execution_count": 60,
   "metadata": {},
   "outputs": [
    {
     "data": {
      "text/html": [
       "<div>\n",
       "<style scoped>\n",
       "    .dataframe tbody tr th:only-of-type {\n",
       "        vertical-align: middle;\n",
       "    }\n",
       "\n",
       "    .dataframe tbody tr th {\n",
       "        vertical-align: top;\n",
       "    }\n",
       "\n",
       "    .dataframe thead th {\n",
       "        text-align: right;\n",
       "    }\n",
       "</style>\n",
       "<table border=\"1\" class=\"dataframe\">\n",
       "  <thead>\n",
       "    <tr style=\"text-align: right;\">\n",
       "      <th></th>\n",
       "      <th>count</th>\n",
       "      <th>mean</th>\n",
       "      <th>std</th>\n",
       "      <th>min</th>\n",
       "      <th>25%</th>\n",
       "      <th>50%</th>\n",
       "      <th>75%</th>\n",
       "      <th>max</th>\n",
       "    </tr>\n",
       "  </thead>\n",
       "  <tbody>\n",
       "    <tr>\n",
       "      <th>metric_value</th>\n",
       "      <td>96.0</td>\n",
       "      <td>54.861354</td>\n",
       "      <td>6.04839</td>\n",
       "      <td>47.81</td>\n",
       "      <td>48.935</td>\n",
       "      <td>53.08</td>\n",
       "      <td>61.08</td>\n",
       "      <td>64.49</td>\n",
       "    </tr>\n",
       "  </tbody>\n",
       "</table>\n",
       "</div>"
      ],
      "text/plain": [
       "              count       mean      std    min     25%    50%    75%    max\n",
       "metric_value   96.0  54.861354  6.04839  47.81  48.935  53.08  61.08  64.49"
      ]
     },
     "execution_count": 60,
     "metadata": {},
     "output_type": "execute_result"
    }
   ],
   "source": [
    "results.sort(key=lambda r: r['metric_value'], reverse=True)\n",
    "\n",
    "metric_values = pd.Series({result['job_name']: result['metric_value']\n",
    "                           for result in results},\n",
    "                          name='Accuracy @3')\n",
    "metric_values.describe().to_frame().transpose()"
   ]
  },
  {
   "cell_type": "markdown",
   "metadata": {},
   "source": [
    "Print the best configuration."
   ]
  },
  {
   "cell_type": "code",
   "execution_count": 70,
   "metadata": {},
   "outputs": [
    {
     "name": "stdout",
     "output_type": "stream",
     "text": [
      "Best job: hyperparam_job2_c0eeed662e953b2e with parameters:\n"
     ]
    },
    {
     "data": {
      "text/html": [
       "<div>\n",
       "<style scoped>\n",
       "    .dataframe tbody tr th:only-of-type {\n",
       "        vertical-align: middle;\n",
       "    }\n",
       "\n",
       "    .dataframe tbody tr th {\n",
       "        vertical-align: top;\n",
       "    }\n",
       "\n",
       "    .dataframe thead th {\n",
       "        text-align: right;\n",
       "    }\n",
       "</style>\n",
       "<table border=\"1\" class=\"dataframe\">\n",
       "  <thead>\n",
       "    <tr style=\"text-align: right;\">\n",
       "      <th></th>\n",
       "      <th>Value</th>\n",
       "    </tr>\n",
       "  </thead>\n",
       "  <tbody>\n",
       "    <tr>\n",
       "      <th>ESTIMATORS</th>\n",
       "      <td>100</td>\n",
       "    </tr>\n",
       "    <tr>\n",
       "      <th>MATCH</th>\n",
       "      <td>40</td>\n",
       "    </tr>\n",
       "    <tr>\n",
       "      <th>MIN_CHILD_SAMPLES</th>\n",
       "      <td>20</td>\n",
       "    </tr>\n",
       "    <tr>\n",
       "      <th>NGRAMS</th>\n",
       "      <td>4</td>\n",
       "    </tr>\n",
       "    <tr>\n",
       "      <th>WEIGHT</th>\n",
       "      <td>--unweighted</td>\n",
       "    </tr>\n",
       "  </tbody>\n",
       "</table>\n",
       "</div>"
      ],
      "text/plain": [
       "                          Value\n",
       "ESTIMATORS                  100\n",
       "MATCH                        40\n",
       "MIN_CHILD_SAMPLES            20\n",
       "NGRAMS                        4\n",
       "WEIGHT             --unweighted"
      ]
     },
     "execution_count": 70,
     "metadata": {},
     "output_type": "execute_result"
    }
   ],
   "source": [
    "best_params = {ev.name[len('PARAM_'):]:ev.value for ev in results[0]['job'].environment_variables}\n",
    "print(\"Best job: {0} with parameters:\".format(results[0]['job_name']))\n",
    "pd.Series(best_params, name='Value').to_frame()"
   ]
  },
  {
   "cell_type": "markdown",
   "metadata": {},
   "source": [
    "## Build the best model\n",
    "Define variables that hold the best combination of parameters, and the number of estimators to use. Typically, increasing the number of estimators will increase the performance. "
   ]
  },
  {
   "cell_type": "code",
   "execution_count": 80,
   "metadata": {},
   "outputs": [],
   "source": [
    "best_estimators = 10 * int(best_params['ESTIMATORS'])\n",
    "best_min_child_samples = best_params['MIN_CHILD_SAMPLES']\n",
    "best_match = best_params['MATCH']\n",
    "best_ngrams = best_params['NGRAMS']\n",
    "best_weight = best_params['WEIGHT']"
   ]
  },
  {
   "cell_type": "markdown",
   "metadata": {},
   "source": [
    "Run the training script with the best parameters, and save the model. This will likely take more than a half hour."
   ]
  },
  {
   "cell_type": "code",
   "execution_count": null,
   "metadata": {},
   "outputs": [
    {
     "name": "stdout",
     "output_type": "stream",
     "text": [
      "Prepare the training data.\n",
      "Reading ./balanced_pairs_train.tsv\n",
      "train: 267,320 rows with 2.50% matches\n",
      "No sample weights.\n",
      "Define the model pipeline.\n",
      "Estimators=8,000\n",
      "Ngram range=(1, 4)\n",
      "Min child samples=20\n",
      "Fitting the model.\n"
     ]
    }
   ],
   "source": [
    "%run -t TrainTestClassifier.py\\\n",
    "    --save\\\n",
    "    --estimators $best_estimators\\\n",
    "    --match $best_match\\\n",
    "    --ngrams $best_ngrams\\\n",
    "    --min_child_samples $best_min_child_samples\\\n",
    "    $best_weight"
   ]
  },
  {
   "cell_type": "markdown",
   "metadata": {},
   "source": [
    "To tear down the experiment and all related resources go to [the last notebook](06_Tear_Down.ipynb)."
   ]
  }
 ],
 "metadata": {
  "anaconda-cloud": {},
  "kernelspec": {
   "display_name": "Python [conda env:MLBatchAIHyperparameterTuning]",
   "language": "python",
   "name": "conda-env-MLBatchAIHyperparameterTuning-py"
  },
  "language_info": {
   "codemirror_mode": {
    "name": "ipython",
    "version": 3
   },
   "file_extension": ".py",
   "mimetype": "text/x-python",
   "name": "python",
   "nbconvert_exporter": "python",
   "pygments_lexer": "ipython3",
   "version": "3.5.5"
  }
 },
 "nbformat": 4,
 "nbformat_minor": 1
}
